{
 "cells": [
  {
   "cell_type": "markdown",
   "metadata": {},
   "source": [
    "# Voie Lactée et la Matière Noire \n",
    "\n",
    "## _Comment déterminer la position des nuages de gaz au sein de la Voie Lactée?_\n",
    "\n",
    "### Introduction: \n",
    "\n",
    "_Qu'est-ce que la Voie Lactée?_ : La Voie Lactée est une galaxie à laquelle le système solaire appartient. On l'appelle ainsi puisque vu de la surface de la Terre, elle apparait blanche. Aussi, nous ne connaissons pas encore la forme exacte et la couleur de celle -ci, nous supposons qu'elle est en forme de spirale et plutôt colorée, mais ce ne sont que des aproximations et des théories. Elle contient aux environs de 140 milliards d'étoiles, dont le Soleil et en son centre se trouve un trou noir. Durant les séances de kinesthésie précédentes, nous avons appris qu'il y avait quatre cadrans au sein desquels les mouvements des nuages de gaz y étaient différents, nous l'étudierons plus en détail dans la suit de ce projet. Source: http://www.futura-sciences.com/sciences/definitions/univers-voie-lactee-3729/\n",
    "\n",
    "_Qu'est-ce que la la matière noire?_ : Les galaxies sont des systèmes complexes qui tournent tellement vite sur eux-mêmes que la force gravitationnelle ne peut suffir à les maintenir liées. C'est pourquoi les scientifiques ont émis l'hypothèse qu'il y a un surplus de masse invisible au centre de chaque galaxie notamment de la Voie Lactée, appelée matière noire. On dit qu'elle est invisible car elle n'est pas détectable directement. En effet, la force électromagnétique n'est pas présente dans la matière noire, cette dernière n'émet donc pas - ou n'absorbe pas - de lumière, contrairement aux étoiles et planètes ainsi facilement observables. Les scientifiques n'ont pas encore déterminer la nature de la matière noire mais l'énergie qui la compose pourrait nous permettre de l'étudier. __Sources : Copyright CERN 2017, https://home.cern/fr/about/physics/dark-matter, 2015-04-15\n",
    "\n",
    "_Qu'est-ce que la spectroscopie?_ : On peut définir la spectroscopie comme étant l'ensemble des moyens scientifiques en lien avec l'analyse spectrale qui permettent de déduire la composition de la matière. Pour donner des exemples, nous pouvons citer la spectroscopie Infrarouge ou la spectroscopie RMN (que nous avons normalement étudié en Terminale). Ainsi, la spectroscopie se base sur l'interaction de la matière avec divers rayonnements tels que les rayonnements IR, X etc. D'un point de vue atomistique, ces interactions se traduisent par une baisse (ou une augmentation) d'énergie de l'atome. __Sources : http://www.futura-sciences.com/sciences/definitions/physique-spectrometrie-2516/\n",
    "\n",
    "_Qu'est-ce que l'hydrogène neutre?_ : Il faut savoir que l'hydrogène est le constituant principal de l'Univers. Ainsi, l'hydrogène existe sous plusieurs formes au sein de l'Univers et ilm existe divers moyens pour pouvoir observer ces différents types d'hydrogène; on peut par exemple évoquer le fait que les nébuleuses d'hydrogène ionisés sont observables à la lumière visible alors qu'un nuage d'hydrogène neutre est invisible. En quoi les caractéristiques de l'hydrogène neutre (notamment en terme de spectroscopie) sont intéressantes? L'existance de l'hydrogène neutre a été prédie en 1944 par Van de Hulst et a été confirmée à partir de 1951. Cet hydrogène est caractérisé par le fait que son électron change de sens de rotation une fois tous les 11 millions d'années. Ce phénomène se traduit par une émission d'une onde radio, de longueur d'onde 21 cm. !!(https://media4.obspm.fr/public/AMC/pages_interstellaire/hI_milkyway.gif) Cette image montre la distribution de l'hydrogène neutre au sein de la Voie Lactée, cette découverte permet ainsi de faire un pas en avant vers la découverte de la matière noire. __Sources : https://media4.obspm.fr/public/AMC/pages_interstellaire/bb-hydrogene-neutre.html https://astronomia.fr/5eme_partie/hNeutre.php\n",
    "\n",
    "\n",
    "### Avancée du projet :\n",
    "\n",
    "\n",
    "\n",
    "#### Semaine 1 : \n",
    "\n",
    "Lors de cette première semaine, nous avons tout d'abord commencé par définir les termes importants du sujet : Voie Lactée, matière noire, hydrogène neutre et spectroscopie. Pour cela, nous avons lu des articles provenant de différents sites internet ou magazines en ligne. Nous nous sommes répartis les termes à expliquer afin d'être plus efficaces. Ensuite, nous sommes allés voir nos professeurs afin de leur présenter notre projet et les futures avancées pour les semaines à venir. Cependant, nous n'avions pas vraiment d'idées et nous ne savions pas spécialement comment commencer. Ils nous ont alors expliqué les différentes étapes à suivre et les différents outils mis à notre disposition afin de réaliser ce projet. Nous nous sommes alors créés un compte sur le site du télescope afin de pouvoir observer l'hydrogène neutre. Aussi, nous avons déterminé une problématique et un plan à respecter, qui pourra être amené à être modifié dans les semaines suivantes. Notre problématique est la suivante : Dans quelles mesures l'étude des nuages de gaz nous permet-t elle de mieux comprendre la matière noire et la Voie Lactée? Notre plan se sépare en deux parties : l'étude spectrale des nuages de gaz (incluant donc la radioastronomie, la spectroscopie...) et l'étude du mouvement de ceux-ci (positions des nuages en fonction de la vitesse radiale...). Il nous faudra aussi créer un code en Python afin de simuler les mouvements circulaires avec différentes courbes de rotation. Par ailleurs, nous avons de nouveau regardé quelques extraits de vidéos enregistrées quelques semaines auparavant concernant la kinesthésie de la Voie Lactée puisqu'elles étaient en relation avec notre sujet, plus particulièrement la partie sur l'accélération ou la décélération des nuages de gaz dans les différents cadrans au sein de la Voie Lactée.\n",
    "\n",
    "#### Semaine 2 :\n",
    "\n",
    "Cette deuxième semaine, nous avons commencé par lire et s’approprier le polycopié « Radioastronomie ‘à portée de main’ : cartographie de la voie lactée ». Nous avons essayé de comprendre d’où venait chaque formule citée et/ ou expliquée, d’interpréter les différents graphiques mis à notre disposition, de faire le lien entre toutes les informations fournies et avec le télescope. Nous avons donc ainsi mieux compris le fonctionnement de la Voie Lactée. Aussi, nous avons utilisé l’autre polycopié mis à notre disposition afin de commencer à écrire un programme informatique (cette partie sera réalisée par Samy et Younes), ils ont essayé de tracer des cercles, des points, de comprendre comment faire une simulation. L’autre partie, traitée par Louise et Yasmine concernant la physique, a également été approfondie. Etant donné que les comptes créés la semaine précédente sur le site du télescope ne fonctionnaient pas, nous avons utilisé le simulateur afin de comprendre toutes les courbes, tous les points et plus globalement toutes les indications, comme les maxima, les différents affichages sur la représentation avec les bras spiraux. Ainsi, nous avons appris à pointer correctement ce que nous voulons, à interpréter les lignes de visée, à se repérer dans la galaxie. En mêlant les informations du premier polycopié et les indications du site du télescope, nous avons donc réussi à comprendre les données. La prochaine fois, nous pourrons alors nous servir des vraies données que nous irons chercher en utilisant le télescope ou bien nous nous servirons des archives si, à cette date, nous ne pouvons pas viser le centre de la galaxie.\n",
    "\n",
    "#### Semaine 3 :\n",
    "\n",
    "Durant cette troisième semaine, nous avons relu certains passages des différents polycopiés auxquels nous avons accès, celui cité précédemment ainsi que « Explorons la Voie Lactée pour initier les élèves à une démarche scientifique ». Avec l’aide de ces documents, nous avons beaucoup avancé. En effet, Yasmine et Louise ont pu recueillir des données du télescope sur Excel, les vitesses radiales en fonction de la distance et nous avons bien retrouvé les données du polycopié. A l’aide de celles – ci, Younes et Samy vont pouvoir créer un programme informatique représentant une courbe des vitesses radiales en fonction de la longitude. Pour cela, ils devront utiliser une formule du polycopié. Aussi nous avons déterminé ce qu’il nous restait à faire et nous nous sommes donc répartis les tâches restantes. Parallèlement, grâce à un programme informatique qui simule les mouvements de rotation de plusieurs nuages de gaz, nous allons comparer les deux courbes obtenues par les différentes méthodes pour ainsi obtenir un spectre plus précis. A partir de celles-ci nous serons donc en mesure de cartographier les bras spiraux de la Voie Lactée et ainsi créer un programme capable de simuler les mouvements des nuages de gaz en fonction des vitesses radiales. Pour que notre projet avance plus rapidement, nous avons pris une salle de travail afin de continuer.\n",
    "\n",
    "#### Semaine 4 :\n",
    "\n",
    "Lors de cette quatrième et dernière semaine,nous avons terminé notre projet. Nous avons terminé nos programmes, à savoir celui sur la modélisation des orbites circualires des nuages de gaz et celui sur le résultat des vitesses radiales. Nous avons également tracé tous les spectres dont nous avions besoin pour obtenir la cartographie de la Voie Lactée : le spectre de la modélisation, le spectre expérimental et le spectre final. Nous avons réservé une salle de travail, nous avons également avancé le podcast, nous avons écrit le script et fait le montage. Nous avons finalement modifié notre plan qui se compose donc maintenant de trois parties : la modélisation des orbites circulaires des nuages de gaz, de la vitesse circulaire à la vitesse radiale et comparaison des spectres expérimentaux et théoriques. De plus notre problématique est finalement : _Comment déterminer la position des nuages de gaz au sein de la Voie Lactée?_  Durant ce projet, Yasmine et Louise se sont occupées de la rédaction du compte rendu, du rapport, de la mise en forme du podcast et parallèlement, Younes et Samy ont programmé en langage Python ce dont nous avions besoin. \n",
    "\n",
    "\n",
    "### Kinesthésie :\n",
    "\n",
    "Au cours des premières séances de cet Atelier de Recherches Encadré, nous avons pu prendre part à des ateliers de kinesthésie, dont un portait sur la Voie Lactée (la quatrième séance). Nous avons appris qu'il existe deux types de rotation : la rotation rigide et la rotation différentielle. Pour la première, nous avons remarqué que ceux placés près du centre de la galaxie allaient plus lentement que ceux qui en étaient éloignés puisque nous devions garder une forme de croix lors du déplacement. Quant à l'autre rotation, nous avancions tous d'un pas à chaque applaudissement: au départ nous étions en croix puis nous avons pu remarquer les bras spiraux se former pour repasser par la forme de croix à un moment donné. C'est cette dernière option qui concerne la Voie Lactée : c'est la rotation galactique.\n",
    "\n",
    "\n",
    "### Rapport : \n",
    "\n",
    "Afin de réaliser notre projet et d'aboutir à la cartographie des bras spiraux de la Voie Lactée, nous devons passer par plusieurs étapes : la modélisation de mouvements circulaires de plusieurs nuages de gaz, l'obtention de la vitesse radiale, puis la comparaison des deux spectres théorique et expérimental obtenus.\n",
    "\n",
    "#### La modélisation des orbites circulaires des nuages de gaz\n",
    "Tout d'abord, commençons par la modélisation de la Voie Lactée afin de pouvoir visualiser de façon plus concrète notre problème. Pour cela, nous avons inséré dans un programme informatique, créé par Younes et Samy, un plan galactique orthonormé (en kpc, qui est l'unité la plus appropriée pour notre situation) contenant différents points positionnés de façon aléatoire (et également de façon à ce qu'il y ait plus de points autour du centre de masse et aucun point dans un certain rayon qui correspond au rayon du centre de masse) et un point jaune situé à 8,5 kpc qui correspond au système solaire. A travers ce programme, nous allons effectuer un calcul du nombre de points passant par la ligne de visée (correspondant à 36 degrés) en partant du système solaire. Par la suite,nous effectuerons un calcul de la vitesse radiale, qui sera détaillé, de ces points pour pouvoir les représenter dans un graphique en fonction de leur distance par rapport au Soleil. \n",
    "Pour créer ce premier programme de modélisation, nous créons des points aléatoires (mais qui sont plus probables d'apparaître autour du centre de masse) et le système Solaire distant de 8.5 kpc est représenté par la point jaune. On crée une liste vide qui contiendra toutes les coordonnés polaires des différents points. On génère 700 points de coordonnées polaires (a, c) où a sera un angle aléatoire et c une distance aléatoire comprise entre 3 et 18 kpc par rapport au centre de masse. On laisse un rayon vide de 3 kpc pour représenter le centre de masse qui ne contiendra aucun point. On définit un tuple z qui contiendra les coordonnées polaires du point aléatoire pour obtenir une liste avec les coordonnées des 700 points. Enfin, on représente sur le graphe le point en coordonnées cartésiennes puis on représente la ligne de visée par une droite rouge."
   ]
  },
  {
   "cell_type": "code",
   "execution_count": 7,
   "metadata": {
    "collapsed": false
   },
   "outputs": [
    {
     "data": {
      "image/png": "[encoded data removed]",
      "text/plain": [
       "<matplotlib.figure.Figure at 0x630f790>"
      ]
     },
     "metadata": {},
     "output_type": "display_data"
    }
   ],
   "source": [
    "from pylab import *\n",
    "%matplotlib inline\n",
    "import numpy as np\n",
    "import random\n",
    "from random import randrange\n",
    "fig = plt.figure()\n",
    "fig.set_size_inches(7, 7)\n",
    "axis(\"equal\")\n",
    "def galaxie_alé():    \n",
    "    x = linspace(-50, 50, 100)\n",
    "    xlim(-20, 20)\n",
    "    ylim(-20,20)\n",
    "    plot(8.5, 0, \"yo\", ms=5) #On définit le Soleil à 8,5 kpc et placé sur l'axe des abscisses pour plus de facilités.\n",
    "    L = [] #On crée une liste vide qui contiendra toutes les coordonnés polaires des différents points\n",
    "    for i in range(700):\n",
    "        #on génère 700 points de coordonnées polaires (a, c) où a sera un angle aléatoire et c une distance aléatoire comprise entre 3 et 18 kpc par rapport au centre de masse. On laisse un rayon vide de 3 kpc pour représenter le centre de masse qui ne contiendra aucun point.\n",
    "        a = 2*pi*random.random() #a correspond à l'angle; la fonction \"random.random() permet de génèrer un nombre aléatoire compris entre 0 et 1 ; en multipliant ceci par 2pi, on aura forcément un angle compris entre 0 et 2pi\n",
    "        c = ((random.random()*random.random()*15))+2 #c correspond à la distance entre le centre de masse et le point aléatoire, le fait de multiplier 15 par 3 nombres aléatoires compris entre 0 et 1 augmente les chances de retrouver les points très proches du centre de masse.\n",
    "        z = (a, c) #On définit un tuple z qui contiendra les coordonnées polaires du point aléatoire\n",
    "        L.append(z) \n",
    "        plot(c*cos(a), c*sin(a), 'bo', ms=2) #On représente le point en coordonnées cartésiennes, d'où le c*cos(a) et le c*sin(a)\n",
    "    Y = (-sin(0.63)*x/8.5)+sin(0.63) #On définit la fonction Y qui caractérise la ligne de visée avec un angle de 36 degrés qu'on convertit en 0,63 radians.\n",
    "    plot(x, Y, 'r-', linewidth=0.5, label=\"Ligne de visée\") #On représente la ligne de visée par une droite rouge sur le graphe\n",
    "    plt.title(\"Simulation de la Voie Lactée (kpc par kpc)\") \n",
    "    plt.legend()\n",
    "    show()\n",
    "    return L\n",
    "L = galaxie_alé()\n"
   ]
  },
  {
   "cell_type": "markdown",
   "metadata": {},
   "source": []
  },
  {
   "cell_type": "markdown",
   "metadata": {},
   "source": [
    "Pour réaliser ce programme nous avons commencé par initialiser la vitesse du soleil en kpc/s : v0 = 7.1297e-15 et on suppose que les galaxies et les nuages de gaz possèdent la même vitesse circulaire que le Soleil; donc V0 = V = 250 km/s. Ensuite, on vérifie si la valeur absolue de la différence entre l'ordonnée du point et Y de l'abscisse de ce point est inférieure à une certaine erreur qui est ici de 0.25 (après plusieurs essais, nous avons trouvé que cette erreur correspondait bien aux faits du schéma. Puis pour le calcul de la vitesse radiale en km/s en prenant l = 0.63 rad(36 degrés), il faut étudier les différentes données que nous connaissons au sein de la Voie Lactée. On associe R0 à la distance entre le soleil et le centre galactique (8,5 kpc), V0 à la vitesse du Soleil autour du centre galactique (220 km/s), l à la longitude galactique, Vc à la vitesse circulaire d’un nuage de gaz, R à la distance entre le nuage et le centre galactique et r à la distance entre le soleil et le nuage. Nous observons ce que l’on appelle la vitesse radiale, Vr, projection de la vitesse d’un nuage sur la ligne de visée moins la projection de la vitesse du soleil sur la ligne de visée. On en déduit alors : Vr=Vcos(α)−V0 sin(l). Nous voulons maintenant remplacer α par d'autres variables que nous serons en mesure d'utiliser dasn nos calculs. D'après l'étude des différents éléments de la Voie Lactée représentés sur une figure du polycopié mis à notre disposition, nous trouvons que : CT = R0sin(l) = Rcos(α). On obtient finalement : Vr=V(R0/R)sin(l)−V0sin(l). A partir de cette formule, on peut alors trouver la vitesse radiale des points sur la ligne de visée choisie. En créant un dictionnaire qui associe à chaque distance au Soleil, une valeur de la vitesse radiale en km/s, la fonction ci-dessous donne l'évolution de la vitesse radiale des points d'intersections avec la ligne de visée en fonction de leur distance en kpc par rapport au Soleil. Ci-dessous le spectre correspondant à la vitesse radiale des nuages de gaz à l'orbite circulaire de la modélisation théorique pour une latitude l= 36 et une erreur de 0,25. Nous avons en effet remarqué que cette erreur correspondait au schéma. \n"
   ]
  },
  {
   "cell_type": "code",
   "execution_count": 6,
   "metadata": {
    "collapsed": false
   },
   "outputs": [
    {
     "name": "stderr",
     "output_type": "stream",
     "text": [
      "C:\\Python34\\lib\\site-packages\\ipykernel\\__main__.py:10: DeprecationWarning: using a non-integer number instead of an integer will result in an error in the future\n"
     ]
    },
    {
     "data": {
      "image/png": "[encoded data removed]",
      "text/plain": [
       "<matplotlib.figure.Figure at 0x6162370>"
      ]
     },
     "metadata": {},
     "output_type": "display_data"
    }
   ],
   "source": [
    "x = linspace(-50, 50, 100)\n",
    "Y = (-sin(0.63)*x/8.5)+sin(0.63)\n",
    "v0 = 7.1297e-15 #vitesse du soleil en kpc/s\n",
    "D= dict()\n",
    "\n",
    "#On suppose que les galaxies et les nuages de gaz possèdent la même vitesse circulaire que le Soleil; donc V0 = V = 250 km/s\n",
    "\n",
    "def courbe():\n",
    "    for z in L: \n",
    "        if abs(z[1]*sin(z[0])-Y[z[1]*cos(z[0])])<=0.25: \n",
    "#la fonction vérifie si la valeur absolue de la différence entre l'ordonnée du point et Y de l'abscisse de ce point est inférieure à 0.25 \n",
    "            d = sqrt((8.5)**2)+((z[1]*sin(z[0]))**2)\n",
    "            vR = (((v0*8.5)/(z[1]*sin(0.63)))-(v0*sin(0.63)))*3.086e16 #Calcul de la vitesse radiale en km/s en prenant l = 0.63 rad(36 degrés)\n",
    "            D[d] = vR\n",
    "#on créé un dictionnaire qui associe à chaque distance au Soleil, une valeur de la vitesse radiale en km/s\n",
    "    return D\n",
    "#La fonction ci-dessous donne l'évolution de la vitesse radiale des points d'intersections avec la ligne de visée en fonction de leur distance en kpc par rapport au Soleil\n",
    "def courbe2():\n",
    "    D = courbe()\n",
    "    LL = []\n",
    "    KK = []\n",
    "    for d in D:\n",
    "        LL.append(d)\n",
    "    for i in sorted(LL):\n",
    "        KK.append(D[i])\n",
    "    plt.scatter(sorted(LL), KK)\n",
    "    plot(sorted(LL),KK)\n",
    "    plt.title(\"L'évolution de la vitesse radiale(km/s) en fonction de la distance au Soleil(kpc)\")\n",
    "    show()\n",
    "\n",
    "courbe2()\n"
   ]
  },
  {
   "cell_type": "markdown",
   "metadata": {},
   "source": [
    "On voit sur ce spectre que les différents pics représentent les points d'intersection entre la ligne de visée que nous avons choisie au préalable et les orbites des nuages de gaz. Sur la figure précédente, la ligne de visée coupe bien les orbites en différents points, sans compter le point de départ."
   ]
  },
  {
   "cell_type": "markdown",
   "metadata": {},
   "source": [
    "Nous voulons ensuite obtenir les spectres de la vitesse circulaire, nommée Vc, des nuages de gaz en fonction de la distance galacticocentrique R. Pour cela, nous voulions réserver un créneau d'observation sur le télescope français de 3m mais le centre de la galaxie n'était jamais visible durant la période des quatre dernières semaines. Nous avons alors sélectionné des données des archives du télescope 3m de Paris : [Eu Hou] (http://euhou.obspm.fr/public/archive.php). Ce télescope radio nous permet d'observer les spectres du principal composant des nuages de gaz, l'hydrogène neutre. Le site Eu-Hou nous donne automatiquement la concentration d'hydrogène en fonction de la vitesse circulaire du nuage de gaz, pour chaque ligne de visée sélectionnée. Nous choisissons une latitude b=0° pour que la ligne de visée soit également dans le plan de la galaxie, où la concentration d'hyrdogène neutre est la plus élevée. Pour la première ligne de visée nous avons pris une latitude l=36°, nous ferons de même ici. Nous extrayons les données du fichier .csv pour les mettre dans un document Excel. Ci-dessous, le spectre de la vitesse circulaire en fonction de la distance galacticocentrique correspondant :\n"
   ]
  },
  {
   "cell_type": "code",
   "execution_count": 5,
   "metadata": {
    "collapsed": false,
    "scrolled": true
   },
   "outputs": [
    {
     "name": "stderr",
     "output_type": "stream",
     "text": [
      "C:\\Python34\\lib\\site-packages\\ipykernel\\__main__.py:16: RuntimeWarning: divide by zero encountered in true_divide\n"
     ]
    },
    {
     "data": {
      "image/png": "[encoded data removed]",
      "text/plain": [
       "<matplotlib.figure.Figure at 0x5643a10>"
      ]
     },
     "metadata": {},
     "output_type": "display_data"
    }
   ],
   "source": [
    "from pylab import *\n",
    "import numpy as np\n",
    "from matplotlib import pyplot as plt\n",
    "V=np.array([0,200.8394162,247.6776629,238.5135711,260.3459724,206.1736993,207.9955862\n",
    ",211.8104688,214.6171851,218.4145757,223.2014839,196.9385492,195.2423033,188.9734517,209.9970578\n",
    ",222.1835693,208.4098041,215.5598884,228.5261379,219.2098772,220.5221914,218.3846022\n",
    ",212.7296652,212.5014834\n",
    "])#Données expérimentales de la vitesse radiale (km/s) en fonction de la distance (kpc)\n",
    "R=np.array([0,0.148270258,0.296495396,0.444630311,0.592629925,0.7404492,0.888043157,1.035366881\n",
    ",1.182375541,1.329024404,1.475268844,2.198872174,2.905757713,3.590551082,4.248045872\n",
    ",4.873243219,5.461389814,6.008014039,6.50895997,6.960418967,7.358958636\n",
    ",7.70154892,7.985585144,8.208907809\n",
    "])\n",
    "\n",
    "\n",
    "x=1/sqrt(R/10000) )#Formule du modèle théorique obtenue à partir des lois de Kepler\n",
    "\n",
    "\n",
    "matplotlib.style.use('ggplot')\n",
    "figure(figsize=(6,6), dpi=80)\n",
    "plot(R,V, color=\"blue\", linewidth=2.5, linestyle=\"-\",label=\"Données expérimentales\")\n",
    "plot(R,x, color=\"red\", linewidth=2.5, linestyle=\"-\",label=\"Données théoriques simplifiées\")\n",
    "\n",
    "legend(loc='upper right')\n",
    "show()"
   ]
  },
  {
   "cell_type": "markdown",
   "metadata": {},
   "source": [
    "#### De la vitesse circulaire à la vitesse radiale"
   ]
  },
  {
   "cell_type": "markdown",
   "metadata": {},
   "source": [
    "Pour trouver la vitesse radiale, nous pouvons utiliser la même méthode que pour le programme de la simultaion dans la partie ."
   ]
  },
  {
   "cell_type": "markdown",
   "metadata": {},
   "source": [
    "Cependant, nous avons choisi de faire autrement. En effet, à partir des données des archives qui fournissent la fréquence de la vitesse circulaire et de la formule de l'effet Doppler, énoncée dans le programme ci-dessous, nous pouvons obtenir la fréquence de la vitesse radiale. Ci-dessous le spectre correspondant :"
   ]
  },
  {
   "cell_type": "code",
   "execution_count": 6,
   "metadata": {
    "collapsed": true
   },
   "outputs": [],
   "source": []
  },
  {
   "cell_type": "markdown",
   "metadata": {},
   "source": [
    "Nous avons sélectionné les données suivantes grâce au site Eu-Hou: T indique la fréquence reçue en MHz et temper la température, c'est-à-dire l'intensité, en K, sur la ligne de visée l=36°."
   ]
  },
  {
   "cell_type": "code",
   "execution_count": 5,
   "metadata": {
    "collapsed": false
   },
   "outputs": [],
   "source": [
    "T=[1419.8868881405,1419.8947006405,1419.9025131405,1419.9103256405,1419.9181381405,1419.9259506405,1419.9337631405,\n",
    "   1419.9415756405,1419.9493881405,1419.9572006405,1419.9650131405,1419.9728256405,1419.9806381405,1419.9884506405,\n",
    "   1419.9962631405,1420.0040756405,1420.0118881405,\n",
    "1420.0197006405,\n",
    "1420.0275131405,\n",
    "1420.0353256405,\n",
    "1420.0431381405,\n",
    "1420.0509506405,\n",
    "1420.0587631405,\n",
    "1420.0665756405,\n",
    "1420.0743881405,\n",
    "1420.0822006405,\n",
    "1420.0900131405,\n",
    "1420.0978256405,\n",
    "1420.1056381405,\n",
    "1420.1134506405,\n",
    "1420.1212631405,\n",
    "1420.1290756405,\n",
    "1420.1368881405,\n",
    "1420.1447006405,\n",
    "1420.1525131405,\n",
    "1420.1603256405,\n",
    "1420.1681381405,\n",
    "1420.1759506405,\n",
    "1420.1837631405,\n",
    "1420.1915756405,\n",
    "1420.1993881405,\n",
    "1420.2072006405,\n",
    "1420.2150131405,\n",
    "1420.2228256405,\n",
    "1420.2306381405,\n",
    "1420.2384506405,\n",
    "1420.2462631405,\n",
    "1420.2540756405,\n",
    "1420.2618881405,\n",
    "1420.2697006405,\n",
    "1420.2775131405,\n",
    "1420.2853256405,\n",
    "1420.2931381405,\n",
    "1420.3009506405,\n",
    "1420.3087631405,\n",
    "1420.3165756405,\n",
    "1420.3243881405,\n",
    "1420.3322006405,\n",
    "1420.3400131405,\n",
    "1420.3478256405,\n",
    "1420.3556381405,\n",
    "1420.3634506405,\n",
    "1420.3712631405,\n",
    "1420.3790756405,\n",
    "1420.3868881405,\n",
    "1420.3947006405,\n",
    "1420.4025131405,\n",
    "1420.4103256405,\n",
    "1420.4181381405,\n",
    "1420.4259506405,\n",
    "1420.4337631405,\n",
    "1420.4415756405,\n",
    "1420.4493881405,\n",
    "1420.4572006405,\n",
    "1420.4650131405,\n",
    "1420.4728256405,\n",
    "1420.4806381405,\n",
    "1420.4884506405,\n",
    "1420.4962631405,\n",
    "1420.5040756405,\n",
    "1420.5118881405,\n",
    "1420.5197006405,\n",
    "1420.5275131405,\n",
    "1420.5353256405,\n",
    "1420.5431381405,\n",
    "1420.5509506405,\n",
    "1420.5587631405,\n",
    "1420.5665756405,\n",
    "1420.5743881405,\n",
    "1420.5822006405,\n",
    "1420.5900131405,\n",
    "1420.5978256405,\n",
    "1420.6056381405,\n",
    "1420.6134506405,\n",
    "1420.6212631405,\n",
    "1420.6290756405,\n",
    "1420.6368881405,\n",
    "1420.6447006405,\n",
    "1420.6525131405,\n",
    "1420.6603256405,\n",
    "1420.6681381405,\n",
    "1420.6759506405,\n",
    "1420.6837631405,\n",
    "1420.6915756405,\n",
    "1420.6993881405,\n",
    "1420.7072006405,\n",
    "1420.7150131405,\n",
    "1420.7228256405,\n",
    "1420.7306381405,\n",
    "1420.7384506405,\n",
    "1420.7462631405,\n",
    "1420.7540756405,\n",
    "1420.7618881405,\n",
    "1420.7697006405,\n",
    "1420.7775131405,\n",
    "1420.7853256405,\n",
    "1420.7931381405,\n",
    "1420.8009506405,\n",
    "1420.8087631405,\n",
    "1420.8165756405,\n",
    "1420.8243881405,\n",
    "1420.8322006405,\n",
    "1420.8400131405,\n",
    "1420.8478256405,\n",
    "1420.8556381405,\n",
    "1420.8634506405,\n",
    "1420.8712631405,\n",
    "1420.8790756405,\n",
    "1420.8868881405,\n",
    "1420.8947006405,\n",
    "1420.9025131405,\n",
    "1420.9103256405,\n",
    "1420.9181381405,\n",
    "1420.9259506405,\n",
    "1420.9337631405,\n",
    "1420.9415756405,\n",
    "1420.9493881405,\n",
    "1420.9572006405,\n",
    "1420.9650131405]#Frequences obtenues dans les archives\n",
    "\n",
    "temper=[50.7804009763,\n",
    "51.0266089811,\n",
    "50.9035049787,\n",
    "50.7188489751,\n",
    "51.2728169858,\n",
    "50.7804009763,\n",
    "51.3959209882,\n",
    "51.0881609822,\n",
    "51.9498889988,\n",
    "51.5190249905,\n",
    "52.3192010059,\n",
    "53.1193770213,\n",
    "52.5038570095,\n",
    "53.2424810237,\n",
    "53.4886890284,\n",
    "53.6733450319,\n",
    "54.7812810532,\n",
    "54.9659370568,\n",
    "55.3352490639,\n",
    "55.2121450615,\n",
    "55.1505930603,\n",
    "55.9507690757,\n",
    "55.2121450615,\n",
    "55.5199050674,\n",
    "55.2121450615,\n",
    "54.7197290521,\n",
    "55.9507690757,\n",
    "55.5199050674,\n",
    "55.9507690757,\n",
    "56.6893930899,\n",
    "56.6278410888,\n",
    "57.058705097,\n",
    "57.6742251089,\n",
    "57.366465103,\n",
    "59.0283691349,\n",
    "59.397681142,\n",
    "57.4280171041,\n",
    "57.4280171041,\n",
    "57.1818090994,\n",
    "57.4280171041,\n",
    "57.3049131018,\n",
    "57.9819851148,\n",
    "58.4128491231,\n",
    "57.7973291112,\n",
    "58.4744011243,\n",
    "58.8437131314,\n",
    "59.1514731373,\n",
    "59.3361291408,\n",
    "59.8900971515,\n",
    "58.9052651325,\n",
    "58.5359531254,\n",
    "58.2897451207,\n",
    "57.8588811124,\n",
    "58.2897451207,\n",
    "57.1818090994,\n",
    "57.4280171041,\n",
    "57.5511211065,\n",
    "57.5511211065,\n",
    "57.5511211065,\n",
    "57.5511211065,\n",
    "58.2281931195,\n",
    "58.9052651325,\n",
    "58.3512971219,\n",
    "57.7973291112,\n",
    "57.4895691053,\n",
    "57.1202570982,\n",
    "56.0738730781,\n",
    "55.6430090698,\n",
    "54.8428330544,\n",
    "53.4271370272,\n",
    "52.4423050083,\n",
    "52.3192010059,\n",
    "51.7652329953,\n",
    "51.7036809941,\n",
    "51.9498889988,\n",
    "52.1345450024,\n",
    "51.9498889988,\n",
    "52.1960970035,\n",
    "52.1345450024,\n",
    "52.1345450024,\n",
    "51.5805769917,\n",
    "51.2728169858,\n",
    "52.5654090106,\n",
    "52.2576490047,\n",
    "52.8116170154,\n",
    "53.1809290225,\n",
    "53.5502410296,\n",
    "53.1809290225,\n",
    "53.7964490343,\n",
    "53.3040330248,\n",
    "53.2424810237,\n",
    "53.4886890284,\n",
    "53.3040330248,\n",
    "53.1809290225,\n",
    "52.9347210177,\n",
    "52.3807530071,\n",
    "52.6269610118,\n",
    "53.2424810237,\n",
    "53.3040330248,\n",
    "52.8116170154,\n",
    "52.8116170154,\n",
    "53.2424810237,\n",
    "52.6269610118,\n",
    "52.6269610118,\n",
    "52.3192010059,\n",
    "49.9802249609,\n",
    "49.9802249609,\n",
    "49.9802249609,\n",
    "50.8419529775,\n",
    "50.9650569799,\n",
    "49.9802249609,\n",
    "50.4726409704,\n",
    "50.349536968,\n",
    "49.9802249609,\n",
    "49.672464955,\n",
    "50.349536968,\n",
    "50.7188489751,\n",
    "50.1033289633,\n",
    "50.349536968,\n",
    "50.1648809645,\n",
    "49.9802249609,\n",
    "49.9802249609,\n",
    "49.9802249609,\n",
    "49.9802249609,\n",
    "49.9802249609,\n",
    "49.9802249609,\n",
    "49.9802249609,\n",
    "49.9802249609,\n",
    "49.9802249609,\n",
    "49.9802249609,\n",
    "49.9802249609,\n",
    "50.349536968,\n",
    "50.0417769621,\n",
    "49.7340169562,\n",
    "49.672464955,\n",
    "50.4110889692,\n",
    "49.2416009467,\n",
    "49.5493609527,\n",
    "49.9802249609,\n",
    "] #Temperatures obtenues dans les archives"
   ]
  },
  {
   "cell_type": "markdown",
   "metadata": {},
   "source": [
    "Nous souhaitons convertir les fréquences reçues par le télescope en vitesse afin de tracer la courbe de la température en fonction d la vitesse radiale. Pour cela, nous utilisons la formule de l'effet Doppler, à savoir:"
   ]
  },
  {
   "cell_type": "markdown",
   "metadata": {},
   "source": [
    "Vr = (c(Femise - Fr))/Femise"
   ]
  },
  {
   "cell_type": "markdown",
   "metadata": {},
   "source": [
    "avec Vr la vitesse radiale, c la vitesse de la lumière en km/s, Fr et Femise les fréquences reçue et émise, en MHz."
   ]
  },
  {
   "cell_type": "markdown",
   "metadata": {},
   "source": [
    "Nous avons créé une fonction qui parcourt les valeurs de T ci-dessus pour fabriquer une nouvelle liste avec la vitesse radiale en convertissant T. Le programme trace ensuite la courbe de la température en fonctionde la vitesse radiale. Nous choisissons une longueur d'onde de 21 cm car les informations que nous avons récoltées en début de semestre nous précisent que l'hydrogène neutre présent dans les nuages de gaz émet une onde radio de longueur d'onde 21 cm lorsque l'électron de l'atome change de sens de rotation. Convertie en MHz, cette longueur d'onde vaut (1/0.21)(10^3)."
   ]
  },
  {
   "cell_type": "code",
   "execution_count": 9,
   "metadata": {
    "collapsed": false
   },
   "outputs": [
    {
     "data": {
      "image/png": "[encoded data removed]",
      "text/plain": [
       "<matplotlib.figure.Figure at 0x6326f70>"
      ]
     },
     "metadata": {},
     "output_type": "display_data"
    }
   ],
   "source": [
    "%matplotlib inline\n",
    "from pylab import *\n",
    "c=3*10**5 #Vitesse de la lumière en km/s\n",
    "Femise=(1/0.21)*(10**(3)) #Frequence Raie 21 cm en MHz\n",
    "\n",
    "def frequ_en_vitesse(L):\n",
    "    LB=[]\n",
    "    for i in L:\n",
    "        LB.append((c*(Femise-i))/Femise) #Grâce à la formule de l'effet Doppler on transforme chaque fréquence en\n",
    "    return LB                            #vitesse radiale. On l'utilise car elle nous permet de transformer la fréquence\n",
    "                                         #reçue en vitesse radiale.\n",
    "V=frequ_en_vitesse(T)\n",
    "\n",
    "figure(figsize=(12,6), dpi=60)\n",
    "plot(V,temper,'ko')\n",
    "plot(V,temper,'k-',linewidth=0.5, label=\"Température en fonction de la vitesse radiale\",)\n",
    "plt.title(\"Graphique de la température en fonction de la vitesse radiale du nuage de gaz (K par Km/s)\")\n",
    "plt.legend(loc=\"upper left\")\n",
    "show()\n"
   ]
  },
  {
   "cell_type": "markdown",
   "metadata": {},
   "source": [
    "Nous remarquerons ici que la fréquence 0.00021 vient du fait que la raie d'hydrogène observée est de 21cm. Effectivement, le récepteur très sensible du télescope mis à notre disposition, peut détecter l’émission radio de la raie spectrale de l’atome d’hydrogène, de longueur d’onde 21 cm. On peut ainsi repérer ce dernier dans notre Galaxie. "
   ]
  },
  {
   "cell_type": "markdown",
   "metadata": {
    "collapsed": true
   },
   "source": [
    "Nous disposons donc pour l'instant d'un modèle des orbites circulaires des nuages de gaz et d'un spectre de la vitesse radiale en fonction de la distance galacticocentrique. Nous devons maintenant les comparer afin de déterminer où sont situés les nuages de gaz. Pour pouvoir superposer de façon logique les deux spectres, il faut le faire sur les mêmes coordonnées galactiques, c'est - à - dire avec une vitesse radiale qui dépend de la même distance galacticocentrique et comme vu précédemment, avec un même pas de temps."
   ]
  },
  {
   "cell_type": "markdown",
   "metadata": {},
   "source": [
    "#### Comparaison des spectres expérimentaux et théoriques\n",
    "\n",
    "Sur le spectre représentant les orbites circulaires des nuages de gaz, on retire les pics de vitesse radiale que l'on ne retrouve pas dans le spectre de la vitesse radiale en fonction de la distance galacticocentrique expérimentale. En effet, si on ne les retrouve pas c'est qu'il n'y a pas de nuages de gaz à l'endroit où nous en avions placé dans le modèle. On garde donc seulement les autres pics qui se correspondent. On obtient alors un nouveau spectre plus précis représentant les nuages de gaz ayant une orbite circulaire au sein de la Voie Lactée. A partir de ce spectre, nous pouvons donc retirer les orbites circulaires dont nous avons éliminé les vitesses radiales sur le tracé des orbites. Il ne nous reste donc plus que les orbites circulaires des nuages de gaz présents au sein de la Voie Lactée. Maintenant, nous relions les différents points d'une même ligne de visée sur les orbites circulaires entre eux puis nous les relions au centre de la galaxie. Nous pouvons donc remarquer qu'à l'instant initial ils forment une ligne droite mais qu'au fur et à mesure on peut voir des bras spiraux se former. Ainsi, nous obtenons la cartographie de la Voie Lactée. \n",
    "Ceci était l'idée de départ mais ayant rencontré des difficultés dans la comparaison des deux spectres nous avons opté pour une tout autre approche. En effet, nous n'avons pas réussi à mettre les deux spectres sur la même échelle ni même à trouver comment faire en sorte de supprimer les pics qui ne nous étaient pas utiles puisque pas présents dans la réalité. "
   ]
  },
  {
   "cell_type": "code",
   "execution_count": null,
   "metadata": {
    "collapsed": true
   },
   "outputs": [],
   "source": []
  },
  {
   "cell_type": "markdown",
   "metadata": {},
   "source": [
    "Ainsi, nous pouvons obtenir cette cartographie à partir du programme d'animation de Serge Stinckwich. Il faut alors introduire les différents latitudes étudiées, soit plusieurs lignes de visée. Puis relier les points de cette ligne de visée en intersection avec les orbites circulaires entre eux. On observe, comme précédemment, au départ qu'ils sont en ligne droite puis que lorsque le temps passe, des bras spiraux se forment. Ci-dessous le programme correspondant :"
   ]
  },
  {
   "cell_type": "code",
   "execution_count": null,
   "metadata": {
    "collapsed": false
   },
   "outputs": [],
   "source": [
    "import numpy as np \n",
    "from matplotlib import pyplot as plt \n",
    "from matplotlib import animation \n",
    "\n",
    " \n",
    "fig = plt.figure() # On definit les donnée de l'arrière plan ou s'effectueras l'animation\n",
    "fig.set_dpi(100) \n",
    "fig.set_size_inches(7, 6.5) \n",
    "\n",
    " \n",
    "ax = plt.axes(xlim=(-20, 20), ylim=(-20, 20)) #On definit les axes et les limites\n",
    "\n",
    "#On definit la taille de chaque planete et le centre du systeme\n",
    "size = 0.3 \n",
    "xcenter = 0 \n",
    "ycenter = 0  \n",
    "radius = 1 \n",
    "\n",
    "#On note n le nombre de planete sur chaque axes de la galaxie\n",
    "n = 10\n",
    "\n",
    " \n",
    "j = 10\n",
    "\n",
    "#On creé 4 listes qui contiendront chacune les valeurs des 10 planetes avec leur couleur donnée  \n",
    "#avec pour Patch la couleur rouge, patch 1 la couleur bleu, patch 2 la couleur noir et la couleur jaune pour\n",
    "#la derniere\n",
    "patch_list = []\n",
    "patch_list1 = []\n",
    "patch_list2 = []\n",
    "patch_list3 = []\n",
    "for i in range(n): \n",
    "    patch = plt.Circle((0,0), size, fc = 'r') \n",
    "    patch_list.append(patch) \n",
    "for i in range(n): \n",
    "    patch= plt.Circle((0,0), size, fc = 'b') \n",
    "    patch_list1.append(patch) \n",
    "for i in range(n): \n",
    "    patch= plt.Circle((0,0), size, fc = 'k') \n",
    "    patch_list2.append(patch) \n",
    "for i in range(n): \n",
    "    patch= plt.Circle((0,0), size, fc = 'y') \n",
    "    patch_list3.append(patch) \n",
    "\n",
    "for p in patch_list: \n",
    "    ax.add_patch(p) \n",
    "for p in patch_list1: \n",
    "    ax.add_patch(p) \n",
    "for p in patch_list2: \n",
    "    ax.add_patch(p) \n",
    "for p in patch_list3: \n",
    "    ax.add_patch(p) \n",
    "def init(): \n",
    "    return patch_list\n",
    "\n",
    "#On definit la liste somme qui contiendra toutes les planetes avec leur emplacement de depart et leur sens de rotation\n",
    "somme=[]\n",
    "\n",
    "#La fonction animate nous permettra de definir le mouvement de chaque planete sur l'orbite\n",
    "def animate(t): \n",
    "    i = 1 \n",
    "#    xj = xcenter + j*radius * np.sin(np.radians(20*t/j)) \n",
    "#    yj = ycenter + j*radius * np.cos(np.radians(20*t/j)) \n",
    "\n",
    " \n",
    "    xj = 0 \n",
    "    yj = 0 \n",
    "    \n",
    "    for p in patch_list1: \n",
    "        x, y = p.center \n",
    "        r = i*radius \n",
    "        x = xj + xcenter + r * np.sin(np.radians(20*t/i)) #Pour la rotation\n",
    "        y = yj + ycenter + r * np.cos(np.radians(20*t/i))        \n",
    "        # plt.plot(x,y,'o') \n",
    "        p.center = (x,y) #On met les nouvelles coordonnées pour le cercle\n",
    "        i=i+1\n",
    "        somme.append(p) #On met ce cercle dans la liste Somme qui regroupera tous les cercles\n",
    "    i=1\n",
    "    for p1 in patch_list: \n",
    "        x1,y1=p1.center\n",
    "        r = i*radius \n",
    "        x1= xj + xcenter + r * np.cos(np.radians(20*t/i)) #Pour la rotation\n",
    "        y1= yj + ycenter + r *(-np.sin(np.radians(20*t/i)))        \n",
    "        # plt.plot(x,y,'o') \n",
    "        p1.center = (x1,y1) #On met les nouvelles coordonées pour le cercle\n",
    "        i=i+1 \n",
    "        somme.append(p1) #On met ce cercle dans la liste Somme qui regroupera tous les cercles\n",
    "    i=1\n",
    "    for p2 in patch_list2: \n",
    "        x2,y2=p2.center\n",
    "        r = i*radius \n",
    "        x2= xj + xcenter + r * (-np.cos(np.radians(20*t/i))) #Pour la rotation\n",
    "        y2= yj + ycenter + r *(np.sin(np.radians(20*t/i)))        \n",
    "        # plt.plot(x,y,'o') \n",
    "        p2.center = (x2,y2) #On met les nouvelles coordonées pour le cercle\n",
    "        i=i+1 \n",
    "        somme.append(p2)  #On met ce cercle dans la liste Somme qui regroupera tous les cercles\n",
    "    i=1\n",
    "    for p3 in patch_list3: \n",
    "        x3,y3=p3.center\n",
    "        r = i*radius \n",
    "        x3= xj + xcenter + r * (-np.sin(np.radians(20*t/i))) #Pour la rotation\n",
    "        y3= yj + ycenter + r *(-np.cos(np.radians(20*t/i)))        \n",
    "        # plt.plot(x,y,'o') \n",
    "        p3.center = (x3,y3) #On met les nouvelles coordonées pour le cercle\n",
    "        i=i+1 \n",
    "        somme.append(p3) #On met ce cercle dans la liste Somme qui regroupera tous les cercles\n",
    "    \n",
    "    \n",
    "    \n",
    "    \n",
    "    \n",
    "    return somme #La fonction animate retourne la liste Somme qui regroupe tout les cercles avec leur deplacement\n",
    "\n",
    "# La fonction anim permettra de faire la fonction l'animation\n",
    "anim = animation.FuncAnimation(fig,animate,  \n",
    "                               init_func=init, \n",
    "                               frames=7200,  \n",
    "                               interval=20, \n",
    "                               blit=True) \n",
    "\n",
    "plt.show()"
   ]
  },
  {
   "cell_type": "code",
   "execution_count": null,
   "metadata": {
    "collapsed": true
   },
   "outputs": [],
   "source": []
  }
 ],
 "metadata": {
  "kernelspec": {
   "display_name": "Python 3",
   "language": "python",
   "name": "python3"
  },
  "language_info": {
   "codemirror_mode": {
    "name": "ipython",
    "version": 3
   },
   "file_extension": ".py",
   "mimetype": "text/x-python",
   "name": "python",
   "nbconvert_exporter": "python",
   "pygments_lexer": "ipython3",
   "version": "3.4.1"
  }
 },
 "nbformat": 4,
 "nbformat_minor": 0
}

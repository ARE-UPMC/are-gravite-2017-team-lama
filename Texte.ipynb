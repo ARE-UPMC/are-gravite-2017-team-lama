{
 "cells": [
  {
   "cell_type": "markdown",
   "metadata": {},
   "source": [
    "# Spectroscopie de l'hydrogène neutre\n",
    "\n",
    "## Qu'est-ce qu'une spectroscopie? \n",
    "\n",
    "On peut définir la spectroscopie comme étant l'ensemble des moyens scientifiques en lien avec l'analyse spectrale qui permettent de déduire la composition de la matière. Pour donner des exemples, nous pouvons citer la spectroscopie Infrarouge ou la spectroscopie RMN (que nous avons normalement étudié en Terminale). Ainsi, la spectroscopie se base sur l'interaction de la matière avec divers rayonnements tels que les rayonnements IR, X etc. D'un point de vue atomistique, ces interactions se traduisent par une baisse (ou une augmentation) d'énergie de l'atome. \n",
    "\n",
    "Source: http://www.futura-sciences.com/sciences/definitions/physique-spectrometrie-2516/\n",
    "\n",
    "## Qu'est-ce que l'hydrogène neutre?\n",
    "\n",
    "Il faut savoir que l'hydrogène est le constituant principal de l'Univers. Ainsi, l'hydrogène existe sous plusieurs formes au sein de l'Univers et ilm existe divers moyens pour pouvoir observer ces différents types d'hydrogène; on peut par exemple évoquer le fait que les nébuleuses d'hydrogène ionisés sont observables à la lumière visible alors qu'un nuage d'hydrogène neutre est invisible. \n",
    "\n",
    "\n",
    "## En quoi les caractéristiques de l'hydrogène neutre (notamment en terme de spectroscopie) sont intéressantes?\n",
    "\n",
    "L'existance de l'hydrogène neutre a été prédie en 1944 par Van de Hulst et a été confirmée à partir de 1951. Cet hydrogène est caractérisé par le fait que son électron change de sens de rotation une fois tous les 11 millions d'années. Ce phénomène se traduit par une émission d'une onde radio, de longuer d'onde 21 cm. \n",
    "\n",
    "!!(https://media4.obspm.fr/public/AMC/pages_interstellaire/hI_milkyway.gif)\n",
    "\n",
    "Cette image montre la distribution de l'hydrogène neutre au sein de la Voie Lactée, cette découverte permet ainsi de faire un pas en avant vers la découverte de la matière noire. \n",
    "\n",
    "Sources: https://media4.obspm.fr/public/AMC/pages_interstellaire/bb-hydrogene-neutre.html\n",
    "         https://astronomia.fr/5eme_partie/hNeutre.php"
   ]
  },
  {
   "cell_type": "code",
   "execution_count": null,
   "metadata": {
    "collapsed": true
   },
   "outputs": [],
   "source": []
  }
 ],
 "metadata": {
  "kernelspec": {
   "display_name": "Python 3",
   "language": "python",
   "name": "python3"
  },
  "language_info": {
   "codemirror_mode": {
    "name": "ipython",
    "version": 3
   },
   "file_extension": ".py",
   "mimetype": "text/x-python",
   "name": "python",
   "nbconvert_exporter": "python",
   "pygments_lexer": "ipython3",
   "version": "3.4.1"
  }
 },
 "nbformat": 4,
 "nbformat_minor": 0
}

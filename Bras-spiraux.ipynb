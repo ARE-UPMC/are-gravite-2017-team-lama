{
 "cells": [
  {
   "cell_type": "code",
   "execution_count": 6,
   "metadata": {
    "collapsed": false
   },
   "outputs": [
    {
     "data": {
      "image/png": "[encoded data removed]",
      "text/plain": [
       "<matplotlib.figure.Figure at 0x5aa3f50>"
      ]
     },
     "metadata": {},
     "output_type": "display_data"
    }
   ],
   "source": [
    "import numpy as np\n",
    "from matplotlib import pyplot as plt\n",
    "from matplotlib import animation\n",
    "\n",
    "fig = plt.figure()\n",
    "fig.set_dpi(100)\n",
    "fig.set_size_inches(7, 6.5)\n",
    "\n",
    "ax = plt.axes(xlim=(-20, 20), ylim=(-20, 20))\n",
    "\n",
    "size = 0.2\n",
    "xcenter = 0\n",
    "ycenter = 0\n",
    "radius = 1\n",
    "n = 10\n",
    "\n",
    "patch_list = []\n",
    "for i in range(n):\n",
    "    patch = plt.Circle((0,0), size, fc = 'r')\n",
    "    patch_list.append(patch)\n",
    "    patch1 = plt.Circle((0,0), size, fc = 'b')\n",
    "    patch_list.append(patch1)\n",
    "    patch2 = plt.Circle((0,0), size, fc = 'y')\n",
    "    patch_list.append(patch2)\n",
    "for p in patch_list:\n",
    "    ax.add_patch(p)\n",
    "\n",
    "def init():\n",
    "    return patch_list\n",
    "\n",
    "def animate(t):\n",
    "    i = 1\n",
    "    for p in patch_list:\n",
    "        x, y = p.center\n",
    "        x= xcenter + i*radius * np.sin(np.radians(t*i/5))\n",
    "        y= ycenter + i*radius * np.cos(np.radians(t*i/5))\n",
    "        p.center = (x, y)\n",
    "        x1, y1 = p.center\n",
    "        x1= xcenter + i*radius * np.cos(np.radians(t*i/4))\n",
    "        y1= ycenter +i*radius * np.sin(np.radians(t*i/4))\n",
    "        p.center = (x1, y1)\n",
    "        x2= xcenter + i*radius * np.sin(np.radians(t*i/4))\n",
    "        y2= ycenter + i*radius * np.cos(np.radians(t*i/4))\n",
    "        p.center = (x2, y2)\n",
    "        i=i+1\n",
    "    return patch_list\n",
    "\n",
    "anim = animation.FuncAnimation(fig, animate, \n",
    "                               init_func=init, \n",
    "                               frames=360, \n",
    "                               interval=20,\n",
    "                               blit=True)\n",
    "plt.show()"
   ]
  },
  {
   "cell_type": "code",
   "execution_count": null,
   "metadata": {
    "collapsed": true
   },
   "outputs": [],
   "source": []
  }
 ],
 "metadata": {
  "kernelspec": {
   "display_name": "Python 3",
   "language": "python",
   "name": "python3"
  },
  "language_info": {
   "codemirror_mode": {
    "name": "ipython",
    "version": 3
   },
   "file_extension": ".py",
   "mimetype": "text/x-python",
   "name": "python",
   "nbconvert_exporter": "python",
   "pygments_lexer": "ipython3",
   "version": "3.4.1"
  }
 },
 "nbformat": 4,
 "nbformat_minor": 0
}

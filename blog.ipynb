{
 "cells": [
  {
   "cell_type": "markdown",
   "metadata": {},
   "source": [
    "# Voie Lactée et matière noire\n",
    "\n",
    "## Etudiants: Samy, Louise, Yasmine et Younes\n",
    "\n",
    "_Semaine 1_\n",
    "\n",
    "Lors de cette première semaine, nous avons tout d'abord commencé par définir les termes importants du sujet : Voie Lactée, matière noire, coordonnées galactiques, hydrogène neutre, radioastronomie et spectroscopie. Pour cela, nous avons lu des articles provenant de différents sites internet ou magazines en ligne. Nous nous sommes répartis les termes à expliquer afin d'être plus efficaces. Ensuite, nous sommes allés voir nos professeurs afin de leur présenter notre projet et les futures avancées pour les semaines à venir. Cependant, nous n'avions pas vraiment d'idées et nous ne savions pas spécialement comment commencer. Ils nous ont alors expliqué les différentes étapes à suivre et les différents outils mis à notre disposition afin de réaliser ce projet. Nous nous sommes alors créés un compte sur le site du télescope afin de pouvoir observer l'hydrogène neutre. Aussi, nous avons déterminé une problématique et un plan à respecter, qui pourra être amené à être modifié dans les semaines suivantes. Notre problématique est la suivante : Dans quelles mesures l'étude des nuages de gaz nous permet-t elle de mieux comprendre la matière noire et la Voie Lactée? et notre plan se sépare en deux parties : l'étude spectrale des nuages de gaz (incluant donc la radioastronomie, la spectroscopie...) et l'étude du mouvement de ceux-ci (positions des nuages en fonction de la vitesse radiale...). Il nous faudra aussi créer un code en Python afin de simuler les mouvements circulaires avec différentes courbes de rotation. Par ailleurs, nous avons de nouveau regardé quelques extraits de vidéos enregistrées quelques semaines auparavant concernant la kinesthésie de la Voie Lactée puisqu'elles étaient en relation avec notre sujet. Plus particulièrement la partie sur l'accélération ou la décélération des nuages de gaz dans les différents cadrans au sein de la Voie Lactée.\n",
    "\n",
    "_Semaine 2_\n",
    "\n",
    "   Cette deuxième semaine, nous avons commencé par lire et s’approprier le polycopié « Radioastronomie ‘à portée de main’ : cartographie de la voie lactée ». Nous avons essayé de comprendre d’où venait chaque formule citée et/ ou expliquée, d’interpréter les différents graphiques mis à notre disposition, de faire des liens entre toutes les informations fournies. Nous avons donc ainsi mieux compris le fonctionnement de la Voie Lactée. Aussi, nous avons utilisé l’autre polycopié mis à notre disposition afin de commencer à écrire un programme informatique (cette partie sera réalisée par Samy et Younes), ils ont essayé de tracer des cercles, des points, de comprendre comment faire une simulation.  L’autre partie, traitée par Louise et Yasmine concernant la physique, a également été approfondie. Etant donné que les comptes créés la semaine précédente sur le site du télescope ne fonctionnaient pas, nous avons utilisé le simulateur afin de comprendre toutes les courbes, tous les points et plus globalement toutes les indications, comme les maxima, les différents affichages sur la représentation avec les bras spiraux. Ainsi, nous avons appris à pointer correctement ce que nous voulons, à interpréter les lignes de visée, à se repérer dans la galaxie. En mêlant les informations du premier polycopié et les indications du site du télescope, nous avons donc réussi à comprendre les données. La prochaine fois, nous pourrons alors se servir des vraies données que nous irons chercher en utilisant le télescope, ou nous nous servirons des archives si à cette date, nous ne pouvons pas viser le centre de la galaxie. \n",
    "\n",
    "_Semaine 3_\n",
    "\n",
    "Durant cette troisième semaine, nous avons relu certains passages des différents polycopiés auxquels nous avons accès, celui cité précédemment ainsi que « Explorons la Voie Lactée pour initier les élèves à une démarche scientifique ». Avec l’aide de ces documents, nous avons beaucoup avancé. En effet, Yasmine et Louise ont pu recueillir des données du télescope sur Excel, les vitesses radiales en fonction de la longitude et nous avons bien retrouvé les données du polycopié. A l’aide de celles – ci, Younes et Samy vont pouvoir créer un programme informatique représentant une courbe des vitesses radiales en fonction de la longitude. Aussi nous avons déterminé ce qu’il nous restait à faire et nous nous sommes donc répartis les tâches restantes. Parallèlement, grâce à un programme informatique qui simule les mouvements de rotation de plusieurs nuages de gaz qui sera créé par Louise et Yasmine, nous allons superposer les deux courbes obtenues par les différentes méthodes puis enlever le « bruit » pour ainsi obtenir un spectre plus précis. A partir de celles-ci nous serons donc en mesure de cartographier les bras spiraux de la Voie Lactée et ainsi créer un programme capable de simuler les mouvements des nuages de gaz en fonction des vitesses radiales. Pour que notre projet avance plus rapidement, nous avons pris une salle de travail afin de continuer. \n"
   ]
  }
 ],
 "metadata": {
  "kernelspec": {
   "display_name": "Python 3",
   "language": "python",
   "name": "python3"
  },
  "language_info": {
   "codemirror_mode": {
    "name": "ipython",
    "version": 3
   },
   "file_extension": ".py",
   "mimetype": "text/x-python",
   "name": "python",
   "nbconvert_exporter": "python",
   "pygments_lexer": "ipython3",
   "version": "3.4.1"
  }
 },
 "nbformat": 4,
 "nbformat_minor": 0
}

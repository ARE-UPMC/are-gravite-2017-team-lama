{
 "cells": [
  {
   "cell_type": "markdown",
   "metadata": {},
   "source": [
    "# COMPTE RENDU SEMAINE PAR SEMAINE :\n",
    "\n",
    "## Première semaine :\n",
    "\n",
    "    Lors de cette première semaine, nous avons tout d'abord commencé par définir les termes importants du sujet : Voie Lactée, matière noire, coordonnées galactiques, hydrogène neutre, radioastronomie et spectroscopie. Pour cela, nous avons lu des articles provenant de différents sites internet ou magazines en ligne. Nous nous sommes répartis les termes à expliquer afin d'être plus efficaces. \n",
    "    Ensuite, nous sommes allés voir nos professeurs afin de leur présenter notre projet et les futures avancées pour les semaines à venir. Cependnat, nous n'avions pas vraiment d'idées et ne ne savions pas spécialement comment commencer. Ils nous ont alors expliqué les différentes étapes à suivre et les différents outils mis à notre disposition afin de réaliser ce projet. Nous nous sommes alors créé un compte sur le site du télescope afin de pouvoir observer l'hydrogène neutre. \n",
    "    Aussi, nous avons déterminer une problématique et un plan à respecter, qui pourra être amener à être modifié dans les semaines suivantes. Notre problématique est la suivante : _Dans quelles mesures l'étude des nuages de gaz nous permet-t elle de mieux comprendre la matière noire et la Voie Lactée?_ et notre plan se sépare en deux parties : l'étude du spectrale des nuages de gaz (incluant donc la radioastronomie, la spectroscopie...) et l'étude du mouvement de ceux-ci (positions des nuages en fonction de la vitesse radiale...). Il nious faudra aussi créer un code en Python sur\n",
    "    Par ailleurs, nous avons de nouveau regarder quelques extraits de vidéos enregistrées quelques semaines auaparavant concerant la kinesthésie de la Voie Lactée puisqu'elles étaient en relation avec notre sujet. Plus particulièrement la partie sur l'accélération ou la décélération des nuages de gaz dans les différents cadrans au sein de la Voie Lactée. \n"
   ]
  }
 ],
 "metadata": {
  "kernelspec": {
   "display_name": "Python 3",
   "language": "python",
   "name": "python3"
  },
  "language_info": {
   "codemirror_mode": {
    "name": "ipython",
    "version": 3
   },
   "file_extension": ".py",
   "mimetype": "text/x-python",
   "name": "python",
   "nbconvert_exporter": "python",
   "pygments_lexer": "ipython3",
   "version": "3.4.1"
  }
 },
 "nbformat": 4,
 "nbformat_minor": 0
}

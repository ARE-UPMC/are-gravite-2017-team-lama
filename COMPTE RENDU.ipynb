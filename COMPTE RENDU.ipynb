{
 "cells": [
  {
   "cell_type": "markdown",
   "metadata": {},
   "source": [
    "# La Voie Lactée et la Matière Noire:\n",
    "\n",
    "__ _Dans quelles mesures l'étude des nuages de gaz nous permet-t elle de mieux comprendre la matière noire et la Voie Lactée?_ __\n",
    "\n",
    "## Defintion des termes:\n",
    "\n",
    "- _Qu'est-ce que la Voie Lactée?_ : \n",
    "La Voie Lactée est une galaxie à laquelle le système solaire appartient. On l'appelle ainsi puisque vu de la surface de la Terre, elle apparait blanche. Aussi, nous ne connaissons pas encore la forme exacte et la couleur de celle -ci, nous supposons qu'elle est en forme de spirale et plutôt colorée, mais ce ne sont que des aproximations et des théories. Elle contient aux environs de 140 milliards d'étoiles, dont le Soleil et en son centre se trouve un trou noir. Durant les séances de kinesthésie précédentes, nous avons appris qu'il y avait quatre cadrans au sein desquels les mouvements des nuages de gaz y étaient différents, nous l'étudierons plus en détail dans la suit de ce projet. \n",
    "\n",
    "__Source:__ http://www.futura-sciences.com/sciences/definitions/univers-voie-lactee-3729/\n",
    "\n",
    "- _Qu'est-ce que la la matière noire?_ :\n",
    "Les galaxies sont des systèmes complexes qui tournent tellement vite sur eux-mêmes que la force gravitationnelle ne peut suffir à les maintenir liées. C'est pourquoi les scientifiques ont émis l'hypothèse qu'il y a un surplus de masse invisible au centre de chaque galaxie notamment de la Voie Lactée, appelée matière noire. On dit qu'elle est invisible car elle n'est pas détectable directement. En effet, la force électromagnétique n'est pas présente dans la matière noire, cette dernière n'émet donc pas - ou n'absorbe pas - de lumière, contrairement aux étoiles et planètes ainsi facilement observables. Les scientifiques n'ont pas encore déterminer la nature de la matière noire mais l'énergie qui la compose pourrait nous permettre de l'étudier.\n",
    "Sources\n",
    "© Copyright CERN 2017, \"Matière Noire\" https://home.cern/fr/about/physics/dark-matter, 2015-04-15\n",
    "\n",
    "- _Spectroscopie de l'hydrogène neutre Qu'est-ce qu'une spectroscopie?_ :\n",
    "On peut définir la spectroscopie comme étant l'ensemble des moyens scientifiques en lien avec l'analyse spectrale qui permettent de déduire la composition de la matière. Pour donner des exemples, nous pouvons citer la spectroscopie Infrarouge ou la spectroscopie RMN (que nous avons normalement étudié en Terminale). Ainsi, la spectroscopie se base sur l'interaction de la matière avec divers rayonnements tels que les rayonnements IR, X etc. D'un point de vue atomistique, ces interactions se traduisent par une baisse (ou une augmentation) d'énergie de l'atome.
 "Sources\n",
 "http://www.futura-sciences.com/sciences/definitions/physique-spectrometrie-2516/\n",
 "- _Qu'est-ce que l'hydrogène neutre?_ :\n",
"Il faut savoir que l'hydrogène est le constituant principal de l'Univers. Ainsi, l'hydrogène existe sous plusieurs formes au sein de l'Univers et ilm existe divers moyens pour pouvoir observer ces différents types d'hydrogène; on peut par exemple évoquer le fait que les nébuleuses d'hydrogène ionisés sont observables à la lumière visible alors qu'un nuage d'hydrogène neutre est invisible."
    "_En quoi les caractéristiques de l'hydrogène neutre (notamment en terme de spectroscopie) sont intéressantes?_ L'existance de l'hydrogène neutre a été prédie en 1944 par Van de Hulst et a été confirmée à partir de 1951. Cet hydrogène est caractérisé par le fait que son électron change de sens de rotation une fois tous les 11 millions d'années. Ce phénomène se traduit par une émission d'une onde radio, de longuer d'onde 21 cm."
!!(https://media4.obspm.fr/public/AMC/pages_interstellaire/hI_milkyway.gif)
"Cette image montre la distribution de l'hydrogène neutre au sein de la Voie Lactée, cette découverte permet ainsi de faire un pas en avant vers la découverte de la matière noire."
 "Sources\n",
    "https://media4.obspm.fr/public/AMC/pages_interstellaire/bb-hydrogene-neutre.html https://astronomia.fr/5eme_partie/hNeutre.php\n",
    "\n",
    "\n",
    "\n"
   ]
  },
  {
   "cell_type": "code",
   "execution_count": null,
   "metadata": {
    "collapsed": true
   },
   "outputs": [],
   "source": []
  }
 ],
 "metadata": {
  "kernelspec": {
   "display_name": "Python 3",
   "language": "python",
   "name": "python3"
  },
  "language_info": {
   "codemirror_mode": {
    "name": "ipython",
    "version": 3
   },
   "file_extension": ".py",
   "mimetype": "text/x-python",
   "name": "python",
   "nbconvert_exporter": "python",
   "pygments_lexer": "ipython3",
   "version": "3.4.1"
  }
 },
 "nbformat": 4,
 "nbformat_minor": 0
}

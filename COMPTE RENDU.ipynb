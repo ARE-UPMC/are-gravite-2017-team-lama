{
 "cells": [
  {
   "cell_type": "markdown",
   "metadata": {},
   "source": [
    "# La Voie Lactée et la Matière Noire:\n",
    "\n",
    "__ _Dans quelles mesures l'étude des nuages de gaz nous permet-t elle de mieux comprendre la matière noire et la Voie Lactée?_ __\n",
    "\n",
    "## Defintion des termes:\n",
    "\n",
    "- _Qu'est-ce que la Voie Lactée?_ : \n",
    "La Voie Lactée est une galaxie à laquelle le système solaire appartient. On l'appelle ainsi puisque vu de la surface de la Terre, elle apparait blanche. Aussi, nous ne connaissons pas encore la forme exacte et la couleur de celle -ci, nous supposons qu'elle est en forme de spirale et plutôt colorée, mais ce ne sont que des aproximations et des théories. Elle contient aux environs de 140 milliards d'étoiles, dont le Soleil et en son centre se trouve un trou noir. Durant les séances de kinesthésie précédentes, nous avons appris qu'il y avait quatre cadrans au sein desquels les mouvemenbts des nugaes de gaz y étaient différents, nous l'étudierons plus en détail dans la suit de ce projet. \n",
    "\n",
    "__Source:__ http://www.futura-sciences.com/sciences/definitions/univers-voie-lactee-3729/\n",
    "\n",
    "- _Qu'est-ce que la la matière noire?_ :\n",
    "Les galaxies sont des systèmes complexes qui tournent tellement vite sur eux-mêmes que la force gravitationnelle ne peut suffir à les maintenir liées. C'est pourquoi les scientifiques ont émis l'hypothèse qu'il y a un surplus de masse invisible au centre de chaque galaxie notamment de la Voie Lactée, appelée matière noire. On dit qu'elle est invisible car elle n'est pas détectable directement. En effet, la force électromagnétique n'est pas présente dans la matière noire, cette dernière n'émet donc pas - ou n'absorbe pas - de lumière, contrairement aux étoiles et planètes ainsi facilement observables. Les scientifiques n'ont pas encore déterminer la nature de la matière noire mais l'énergie qui la compose pourrait nous permettre de l'étudier.\n",
    "Sources\n",
    "© Copyright CERN 2017, \"Matière Noire\" https://home.cern/fr/about/physics/dark-matter, 2015-04-15\n",
    "\n",
    "\n",
    "\n",
    "\n",
    "\n"
   ]
  },
  {
   "cell_type": "code",
   "execution_count": null,
   "metadata": {
    "collapsed": true
   },
   "outputs": [],
   "source": []
  }
 ],
 "metadata": {
  "kernelspec": {
   "display_name": "Python 3",
   "language": "python",
   "name": "python3"
  },
  "language_info": {
   "codemirror_mode": {
    "name": "ipython",
    "version": 3
   },
   "file_extension": ".py",
   "mimetype": "text/x-python",
   "name": "python",
   "nbconvert_exporter": "python",
   "pygments_lexer": "ipython3",
   "version": "3.4.1"
  }
 },
 "nbformat": 4,
 "nbformat_minor": 0
}

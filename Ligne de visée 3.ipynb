{
 "cells": [
  {
   "cell_type": "code",
   "execution_count": 84,
   "metadata": {
    "collapsed": false
   },
   "outputs": [
    {
     "data": {
      "image/png": "[encoded data removed]",
      "text/plain": [
       "<matplotlib.figure.Figure at 0x66f83f0>"
      ]
     },
     "metadata": {},
     "output_type": "display_data"
    }
   ],
   "source": [
    "from pylab import *\n",
    "%matplotlib inline\n",
    "from pylab import *\n",
    "import numpy as np\n",
    "\n",
    "from matplotlib import animation\n",
    "k = 2*pi\n",
    "w = 0\n",
    "xmin = -5\n",
    "xmax = 5\n",
    "nbx = 100\n",
    "\n",
    "x = linspace(xmin, xmax, nbx)\n",
    "xlim(xmin, xmax)\n",
    "ylim(-5,5)\n",
    "plot(0, 0, 'ro')\n",
    "x1 = -cos(k+w)\n",
    "y1 = -sin(k+w)\n",
    "x2 = 2*cos(k+w)\n",
    "y2 = 2*sin(k+w)\n",
    "x3 = -3*cos(k+w)\n",
    "y3 = -3*sin(k+w)\n",
    "x4 = 4*cos(k+w)\n",
    "y4 = 4*sin(k+w)\n",
    "L = (-sin(36)*x/4)+sin(36)\n",
    "\n",
    "for i in range(50):\n",
    "    plot(x1, y1, 'wo')\n",
    "    plot(x2, y2, 'wo')\n",
    "    plot(x3, y3, 'wo')\n",
    "    plot(x4, y4, 'wo')\n",
    "    w=w+2*pi/50\n",
    "    x1 = -cos(k+w)\n",
    "    y1 = -sin(k+w)\n",
    "    x2 = 2*cos(k+w)\n",
    "    y2 = 2*sin(k+w)\n",
    "    x3 = -3*cos(k+w)\n",
    "    y3 = -3*sin(k+w)\n",
    "    x4 = 4*cos(k+w)\n",
    "    y4 = 4*sin(k+w)\n",
    "    plot(x1, y1, 'bo')\n",
    "    plot(x2, y2, 'ro')\n",
    "    plot(x3, y3, 'bo')\n",
    "    plot(x4, y4, 'yo')\n",
    "    ax = gca()\n",
    "    ax.spines['right'].set_color('none')\n",
    "    ax.spines['top'].set_color('none')\n",
    "    ax.xaxis.set_ticks_position('bottom')\n",
    "    ax.spines['bottom'].set_position(('data',0))\n",
    "    ax.yaxis.set_ticks_position('left')\n",
    "    ax.spines['left'].set_position(('data',0))\n",
    "    draw()\n",
    "plot(x, L)\n",
    "ax = gca()\n",
    "ax.spines['right'].set_color('none')\n",
    "ax.spines['top'].set_color('none')\n",
    "ax.xaxis.set_ticks_position('bottom')\n",
    "ax.spines['bottom'].set_position(('data',0))\n",
    "ax.yaxis.set_ticks_position('left')\n",
    "ax.spines['left'].set_position(('data',0))\n",
    "show()"
   ]
  },
  {
   "cell_type": "code",
   "execution_count": 116,
   "metadata": {
    "collapsed": false
   },
   "outputs": [],
   "source": [
    "def courbe(e):\n",
    "    x = linspace(xmin, xmax, nbx)\n",
    "    w = 0\n",
    "    k = 2*pi\n",
    "    L1=[]\n",
    "    L2=[]\n",
    "    x1 = -cos(k+w)\n",
    "    y1 = -sin(k+w)\n",
    "    x2 = 2*cos(k+w)\n",
    "    y2 = 2*sin(k+w)\n",
    "    x3 = -3*cos(k+w)\n",
    "    y3 = -3*sin(k+w)\n",
    "    x4 = 4*cos(k+w)\n",
    "    y4 = 4*sin(k+w)\n",
    "    L = (-sin(36)*x/4)+sin(36)\n",
    "    for i in range(100):\n",
    "        w=w+2*pi/100\n",
    "        x1 = -cos(k+w)\n",
    "        y1 = -sin(k+w)\n",
    "        x2 = 2*cos(k+w)\n",
    "        y2 = 2*sin(k+w)\n",
    "        x3 = -3*cos(k+w)\n",
    "        y3 = -3*sin(k+w)\n",
    "        x4 = 4*cos(k+w)\n",
    "        y4 = 4*sin(k+w)\n",
    "        if abs(L.all())-y1 <= e:\n",
    "            L1.append(10)\n",
    "        if abs(L.all()-y2) <= e:\n",
    "            L1.append(7)\n",
    "        if abs(L.all()-y3) <= e:\n",
    "            L1.append(5)\n",
    "        if abs(L.all()-y4) <= e:\n",
    "            L1.append(3)\n",
    "        else:\n",
    "            L1.append(0)\n",
    "    return L1"
   ]
  },
  {
   "cell_type": "code",
   "execution_count": 117,
   "metadata": {
    "collapsed": false,
    "scrolled": true
   },
   "outputs": [
    {
     "data": {
      "text/plain": [
       "[0,\n",
       " 0,\n",
       " 0,\n",
       " 0,\n",
       " 0,\n",
       " 0,\n",
       " 0,\n",
       " 0,\n",
       " 0,\n",
       " 0,\n",
       " 0,\n",
       " 0,\n",
       " 0,\n",
       " 0,\n",
       " 0,\n",
       " 0,\n",
       " 0,\n",
       " 0,\n",
       " 0,\n",
       " 0,\n",
       " 0,\n",
       " 0,\n",
       " 0,\n",
       " 0,\n",
       " 0,\n",
       " 0,\n",
       " 0,\n",
       " 0,\n",
       " 0,\n",
       " 0,\n",
       " 0,\n",
       " 0,\n",
       " 0,\n",
       " 0,\n",
       " 0,\n",
       " 0,\n",
       " 0,\n",
       " 0,\n",
       " 0,\n",
       " 0,\n",
       " 0,\n",
       " 0,\n",
       " 0,\n",
       " 0,\n",
       " 0,\n",
       " 0,\n",
       " 0,\n",
       " 0,\n",
       " 0,\n",
       " 0,\n",
       " 0,\n",
       " 0,\n",
       " 0,\n",
       " 0,\n",
       " 0,\n",
       " 0,\n",
       " 0,\n",
       " 0,\n",
       " 0,\n",
       " 0,\n",
       " 0,\n",
       " 0,\n",
       " 0,\n",
       " 0,\n",
       " 0,\n",
       " 0,\n",
       " 0,\n",
       " 0,\n",
       " 0,\n",
       " 0,\n",
       " 0,\n",
       " 0,\n",
       " 0,\n",
       " 10,\n",
       " 0,\n",
       " 10,\n",
       " 0,\n",
       " 10,\n",
       " 0,\n",
       " 0,\n",
       " 0,\n",
       " 0,\n",
       " 0,\n",
       " 0,\n",
       " 0,\n",
       " 0,\n",
       " 0,\n",
       " 0,\n",
       " 0,\n",
       " 0,\n",
       " 0,\n",
       " 0,\n",
       " 0,\n",
       " 0,\n",
       " 0,\n",
       " 0,\n",
       " 0,\n",
       " 0,\n",
       " 0,\n",
       " 0,\n",
       " 0,\n",
       " 0,\n",
       " 0]"
      ]
     },
     "execution_count": 117,
     "metadata": {},
     "output_type": "execute_result"
    }
   ],
   "source": [
    "courbe(0.005)"
   ]
  },
  {
   "cell_type": "code",
   "execution_count": 120,
   "metadata": {
    "collapsed": false
   },
   "outputs": [
    {
     "data": {
      "image/png": "[encoded data removed]",
      "text/plain": [
       "<matplotlib.figure.Figure at 0x6864470>"
      ]
     },
     "metadata": {},
     "output_type": "display_data"
    }
   ],
   "source": [
    "from pylab import *\n",
    "%matplotlib inline\n",
    "from pylab import *\n",
    "import numpy as np\n",
    "x = linspace(0, 100, 100)\n",
    "L1= courbe(0.005)\n",
    "X = range(0,len(L1))\n",
    "\n",
    "plot(X, L1)\n",
    "show()"
   ]
  },
  {
   "cell_type": "code",
   "execution_count": null,
   "metadata": {
    "collapsed": true
   },
   "outputs": [],
   "source": []
  }
 ],
 "metadata": {
  "kernelspec": {
   "display_name": "Python 3",
   "language": "python",
   "name": "python3"
  },
  "language_info": {
   "codemirror_mode": {
    "name": "ipython",
    "version": 3
   },
   "file_extension": ".py",
   "mimetype": "text/x-python",
   "name": "python",
   "nbconvert_exporter": "python",
   "pygments_lexer": "ipython3",
   "version": "3.4.1"
  }
 },
 "nbformat": 4,
 "nbformat_minor": 0
}

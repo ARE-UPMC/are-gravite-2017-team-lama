{
 "cells": [
  {
   "cell_type": "code",
   "execution_count": 2,
   "metadata": {
    "collapsed": false
   },
   "outputs": [
    {
     "name": "stderr",
     "output_type": "stream",
     "text": [
      "C:\\Python34\\lib\\site-packages\\ipykernel\\__main__.py:16: RuntimeWarning: divide by zero encountered in true_divide\n"
     ]
    }
   ],
   "source": [
    "from pylab import *\n",
    "import numpy as np\n",
    "from matplotlib import pyplot as plt\n",
    "V=np.array([0,200.8394162,247.6776629,238.5135711,260.3459724,206.1736993,207.9955862\n",
    ",211.8104688,214.6171851,218.4145757,223.2014839,196.9385492,195.2423033,188.9734517,209.9970578\n",
    ",222.1835693,208.4098041,215.5598884,228.5261379,219.2098772,220.5221914,218.3846022\n",
    ",212.7296652,212.5014834\n",
    "]) #Donnée experimentale de la vitesse en fonction de la distance\n",
    "R=np.array([0,0.148270258,0.296495396,0.444630311,0.592629925,0.7404492,0.888043157,1.035366881\n",
    ",1.182375541,1.329024404,1.475268844,2.198872174,2.905757713,3.590551082,4.248045872\n",
    ",4.873243219,5.461389814,6.008014039,6.50895997,6.960418967,7.358958636\n",
    ",7.70154892,7.985585144,8.208907809\n",
    "])\n",
    "\n",
    "\n",
    "x=1/sqrt(R/10000)# Formule du modèle théorique\n",
    "\n",
    "\n",
    "matplotlib.style.use('ggplot')\n",
    "figure(figsize=(6,6), dpi=80)\n",
    "plot(R,V, color=\"blue\", linewidth=2.5, linestyle=\"-\",label=\"Donnée Experimentale\")\n",
    "plot(R,x, color=\"red\", linewidth=2.5, linestyle=\"-\",label=\"Donnée theorique simplifié\")\n",
    "\n",
    "legend(loc='upper right')\n",
    "show()"
   ]
  },
  {
   "cell_type": "code",
   "execution_count": null,
   "metadata": {
    "collapsed": true
   },
   "outputs": [],
   "source": []
  }
 ],
 "metadata": {
  "kernelspec": {
   "display_name": "Python 3",
   "language": "python",
   "name": "python3"
  },
  "language_info": {
   "codemirror_mode": {
    "name": "ipython",
    "version": 3
   },
   "file_extension": ".py",
   "mimetype": "text/x-python",
   "name": "python",
   "nbconvert_exporter": "python",
   "pygments_lexer": "ipython3",
   "version": "3.4.1"
  }
 },
 "nbformat": 4,
 "nbformat_minor": 0
}

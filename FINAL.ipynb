{
 "cells": [
  {
   "cell_type": "markdown",
   "metadata": {},
   "source": [
    "# Voie Lactée et la Matière Noire\n",
    "   \n",
    "   ## _Dans quelles mesures l'étude des nuages de gaz nous permet-t elle de mieux comprendre la matière noire et la Voie Lactée?_ \n",
    "   \n",
    "   ### Introduction:\n",
    "   \n",
    "_Qu'est-ce que la Voie Lactée?_ :\n",
    "    La Voie Lactée est une galaxie à laquelle le système solaire appartient. On l'appelle ainsi puisque vu de la surface de la Terre, elle apparait blanche. Aussi, nous ne connaissons pas encore la forme exacte et la couleur de celle -ci, nous supposons qu'elle est en forme de spirale et plutôt colorée, mais ce ne sont que des aproximations et des théories. Elle contient aux environs de 140 milliards d'étoiles, dont le Soleil et en son centre se trouve un trou noir. Durant les séances de kinesthésie précédentes, nous avons appris qu'il y avait quatre cadrans au sein desquels les mouvements des nuages de gaz y étaient différents, nous l'étudierons plus en détail dans la suit de ce projet.\n",
    "    __Source:__ http://www.futura-sciences.com/sciences/definitions/univers-voie-lactee-3729/\n",
    "    \n",
    "_Qu'est-ce que la la matière noire?_\n",
    "    Les galaxies sont des systèmes complexes qui tournent tellement vite sur eux-mêmes que la force gravitationnelle ne peut suffir à les maintenir liées. C'est pourquoi les scientifiques ont émis l'hypothèse qu'il y a un surplus de masse invisible au centre de chaque galaxie notamment de la Voie Lactée, appelée matière noire. On dit qu'elle est invisible car elle n'est pas détectable directement. En effet, la force électromagnétique n'est pas présente dans la matière noire, cette dernière n'émet donc pas - ou n'absorbe pas - de lumière, contrairement aux étoiles et planètes ainsi facilement observables. Les scientifiques n'ont pas encore déterminer la nature de la matière noire mais l'énergie qui la compose pourrait nous permettre de l'étudier.\n",
    "    __Sources : Copyright CERN 2017, https://home.cern/fr/about/physics/dark-matter, 2015-04-15\n",
    "    \n",
    "_Qu'est-ce que la spectroscopie?_ :\n",
    "    On peut définir la spectroscopie comme étant l'ensemble des moyens scientifiques en lien avec l'analyse spectrale qui permettent de déduire la composition de la matière. Pour donner des exemples, nous pouvons citer la spectroscopie Infrarouge ou la spectroscopie RMN (que nous avons normalement étudié en Terminale). Ainsi, la spectroscopie se base sur l'interaction de la matière avec divers rayonnements tels que les rayonnements IR, X etc. D'un point de vue atomistique, ces interactions se traduisent par une baisse (ou une augmentation) d'énergie de l'atome.\n",
    "    __Sources : http://www.futura-sciences.com/sciences/definitions/physique-spectrometrie-2516/\n",
    "    \n",
    "_Qu'est-ce que l'hydrogène neutre?_ :\n",
    "    Il faut savoir que l'hydrogène est le constituant principal de l'Univers. Ainsi, l'hydrogène existe sous plusieurs formes au sein de l'Univers et ilm existe divers moyens pour pouvoir observer ces différents types d'hydrogène; on peut par exemple évoquer le fait que les nébuleuses d'hydrogène ionisés sont observables à la lumière visible alors qu'un nuage d'hydrogène neutre est invisible.\n",
    "    _En quoi les caractéristiques de l'hydrogène neutre (notamment en terme de spectroscopie) sont intéressantes?_ L'existance de l'hydrogène neutre a été prédie en 1944 par Van de Hulst et a été confirmée à partir de 1951. Cet hydrogène est caractérisé par le fait que son électron change de sens de rotation une fois tous les 11 millions d'années. Ce phénomène se traduit par une émission d'une onde radio, de longuer d'onde 21 cm. \n",
    "    !!(https://media4.obspm.fr/public/AMC/pages_interstellaire/hI_milkyway.gif) \n",
    "    Cette image montre la distribution de l'hydrogène neutre au sein de la Voie Lactée, cette découverte permet ainsi de faire un pas en avant vers la découverte de la matière noire.\n",
    "    __Sources : https://media4.obspm.fr/public/AMC/pages_interstellaire/bb-hydrogene-neutre.html https://astronomia.fr/5eme_partie/hNeutre.php\n",
    "    \n",
    "    \n",
    "    ### Blog :\n",
    "\n",
    "_Semaine 1_\n",
    "\n",
    "Lors de cette première semaine, nous avons tout d'abord commencé par définir les termes importants du sujet : Voie Lactée, matière noire, coordonnées galactiques, hydrogène neutre, radioastronomie et spectroscopie. Pour cela, nous avons lu des articles provenant de différents sites internet ou magazines en ligne. Nous nous sommes répartis les termes à expliquer afin d'être plus efficaces. Ensuite, nous sommes allés voir nos professeurs afin de leur présenter notre projet et les futures avancées pour les semaines à venir. Cependant, nous n'avions pas vraiment d'idées et nous ne savions pas spécialement comment commencer. Ils nous ont alors expliqué les différentes étapes à suivre et les différents outils mis à notre disposition afin de réaliser ce projet. Nous nous sommes alors créés un compte sur le site du télescope afin de pouvoir observer l'hydrogène neutre. Aussi, nous avons déterminé une problématique et un plan à respecter, qui pourra être amené à être modifié dans les semaines suivantes. Notre problématique est la suivante : Dans quelles mesures l'étude des nuages de gaz nous permet-t elle de mieux comprendre la matière noire et la Voie Lactée? et notre plan se sépare en deux parties : l'étude spectrale des nuages de gaz (incluant donc la radioastronomie, la spectroscopie...) et l'étude du mouvement de ceux-ci (positions des nuages en fonction de la vitesse radiale...). Il nous faudra aussi créer un code en Python afin de simuler les mouvements circulaires avec différentes courbes de rotation. Par ailleurs, nous avons de nouveau regardé quelques extraits de vidéos enregistrées quelques semaines auparavant concernant la kinesthésie de la Voie Lactée puisqu'elles étaient en relation avec notre sujet. Plus particulièrement la partie sur l'accélération ou la décélération des nuages de gaz dans les différents cadrans au sein de la Voie Lactée.\n",
    "\n",
    "_Semaine 2_\n",
    "\n",
    "Cette deuxième semaine, nous avons commencé par lire et s’approprier le polycopié « Radioastronomie ‘à portée de main’ : cartographie de la voie lactée ». Nous avons essayé de comprendre d’où venait chaque formule citée et/ ou expliquée, d’interpréter les différents graphiques mis à notre disposition, de faire des liens entre toutes les informations fournies et avec le télescope. Nous avons donc ainsi mieux compris le fonctionnement de la Voie Lactée. Aussi, nous avons utilisé l’autre polycopié mis à notre disposition afin de commencer à écrire un programme informatique (cette partie sera réalisée par Samy et Younes), ils ont essayé de tracer des cercles, des points, de comprendre comment faire une simulation.  L’autre partie, traitée par Louise et Yasmine concernant la physique, a également été approfondie. Etant donné que les comptes créés la semaine précédente sur le site du télescope ne fonctionnaient pas, nous avons utilisé le simulateur afin de comprendre toutes les courbes, tous les points et plus globalement toutes les indications, comme les maxima, les différents affichages sur la représentation avec les bras spiraux. Ainsi, nous avons appris à pointer correctement ce que nous voulons, à interpréter les lignes de visée, à se repérer dans la galaxie. En mêlant les informations du premier polycopié et les indications du site du télescope, nous avons donc réussi à comprendre les données. La prochaine fois, nous pourrons alors se servir des vraies données que nous irons chercher en utilisant le télescope, ou nous nous servirons des archives si à cette date, nous ne pouvons pas viser le centre de la galaxie. \n",
    "\n",
    "_Semaine 3_\n",
    "\n",
    "Durant cette troisième semaine, nous avons relu certains passages des différents polycopiés auxquels nous avons accès, celui cité précédemment ainsi que « Explorons la Voie Lactée pour initier les élèves à une démarche scientifique ». Avec l’aide de ces documents, nous avons beaucoup avancé. En effet, Yasmine et Louise ont pu recueillir des données du télescope sur Excel, les vitesses radiales en fonction de la distance et nous avons bien retrouvé les données du polycopié. A l’aide de celles – ci, Younes et Samy vont pouvoir créer un programme informatique représentant une courbe des vitesses radiales en fonction de la longitude. Aussi nous avons déterminé ce qu’il nous restait à faire et nous nous sommes donc répartis les tâches restantes. Parallèlement, grâce à un programme informatique qui simule les mouvements de rotation de plusieurs nuages de gaz qui sera créé par Louise et Yasmine, nous allons superposer les deux courbes obtenues par les différentes méthodes puis enlever le « bruit » pour ainsi obtenir un spectre plus précis. A partir de celles-ci nous serons donc en mesure de cartographier les bras spiraux de la Voie Lactée et ainsi créer un programme capable de simuler les mouvements des nuages de gaz en fonction des vitesses radiales. Pour que notre projet avance plus rapidement, nous avons pris une salle de travail afin de continuer. \n",
    "\n",
    "_Semaine 4_\n",
    "\n",
    "Cette quatrième semaine, \n",
    "\n",
    "   ### Rapport :\n",
    "\n",
    "Tout d'abord, pour réaliser notre projet et aboutir à la cartographie des bras spiraux de la Voie Lactée, nous devons passer par plusieurs étapes : la modélisation de mouvements circulaires de plusieurs nuages de gaz, l'obtention de la vitesse radiale, puis la comparaison des deux spectres obtenus (théorique et expérimental). \n",
    "\n",
    "Pour se faire, commençons par la modélisation des mouvements circulaires des nuages de gaz dans le plan de la galaxie. Pour cela, nous avons insérer dans notre programme informatique __une multitude__ de mouvements circulaires de différents nuages de gaz avec un pas de temps régulier. Cette étape est importante puisque nous devons compter le nombre de points sur chaque orbite circulaire afin de __XX__ . De plus, nous devons déterminer le rayon de chaque orbite par rapport au centre galactique, nommé R. Nous les réutiliserons dans la dernière étape, exposée précédemment. Ci-dessous, le programme correspondant : "
   ]
  },
  {
   "cell_type": "code",
   "execution_count": null,
   "metadata": {
    "collapsed": true
   },
   "outputs": [],
   "source": []
  },
  {
   "cell_type": "markdown",
   "metadata": {
    "collapsed": true
   },
   "source": [
    "Ensuite, nous voulons obtenir des spectres de la vitesse circulaire, nommée Vc, en fonction de la distance galacticocentrique R. Pour cela, nous sélectionnons des données des archives du télescope 3m de Paris : [Eu Hou] (http://euhou.obspm.fr/public/archive.php). Nous choisissons une latitude b=0 pour que la ligne de visée soit également dans le plan de la galaxie, où la concentration d'hyrdogène neutre, constituant des nuages de gaz, est la plus élevée. Nous extrayons les données du fichier .csv pour les mettre dans un document Excel. Sur chaque ligne de visée choisie dans un quadrant, de latitude l égale, nous prenons les points d'intersection entre celle-ci et les orbites des nuages de gaz, avec un pas de temps régulier. Ci-dessous, les données alors obtenues : "
   ]
  },
  {
   "cell_type": "code",
   "execution_count": null,
   "metadata": {
    "collapsed": true
   },
   "outputs": [],
   "source": []
  },
  {
   "cell_type": "markdown",
   "metadata": {},
   "source": [
    "A présent, nous voulons projeter la vitesse circulaire en ces points sur la ligne de visée afin d'obtenir la vitesse radiale, nommée Vr. Pour se faire, nous devons étudier cette figure représnetant la Voie Lactée en y plaçant en premier lieu le Soleil :"
   ]
  },
  {
   "cell_type": "code",
   "execution_count": null,
   "metadata": {
    "collapsed": true
   },
   "outputs": [],
   "source": []
  },
  {
   "cell_type": "markdown",
   "metadata": {},
   "source": [
    "On associe R0 à la distance entre le soleil et le centre galactique (8,5 kpc, V0 à la vitesse du soleil autour du centre galactique (220 kms-1, l à la longitude galactique, Vc à la vitesse circulaire d’un nuage de gaz, R à la distance entre la nuage et le centre galactique et r à la distance entre le soleil et le nuage. On obtient alors que Vr = Vc*(R0/R)*sin(l)-V0*sin(l).* A partir de cette formule, on peut alors trouver la vitesse radiale des points sur la ligne de visée choisie. Ci-dessous, le programme correspondant : "
   ]
  },
  {
   "cell_type": "markdown",
   "metadata": {},
   "source": []
  },
  {
   "cell_type": "markdown",
   "metadata": {},
   "source": [
    "Grâce aux nouvelles données obtenues, nous pouvons donc tracer le spectre de la vitesse radiale en fonction de la distance galacticocentrique : "
   ]
  },
  {
   "cell_type": "code",
   "execution_count": null,
   "metadata": {
    "collapsed": true
   },
   "outputs": [],
   "source": []
  },
  {
   "cell_type": "markdown",
   "metadata": {},
   "source": [
    "Nous disposons donc pour l'instant d'un modèle de mouvements circulaires des nuages de gaz et d'un spectre de la vitesse radiale en fonction de la distance galacticocentrique, il nous faut donc les superposer afin de déterminer où sont situés les nuages de gaz. Pour pouvoir superposer de façon logique les deux spectres, il faut le faire sur les mêmes coordonnées galactiques, c'est - à - dire avec une vitesse radiale qui dépend de la même distance galacticocentrique et comme vu précédemment, avec un même pas de temps. On utilise également une échelle pour l'intensité de la vitesse radiale, on définira 1 pour cela. On obtient ainsi ces deux spectres : "
   ]
  },
  {
   "cell_type": "code",
   "execution_count": null,
   "metadata": {
    "collapsed": true
   },
   "outputs": [],
   "source": []
  },
  {
   "cell_type": "markdown",
   "metadata": {},
   "source": [
    "Sur le spectre représentant les mouvements circulaires des nuages de gaz, on retire les pics de vitesse radiale que l'on ne retrouve pas dans l'autre spetre. On garde donc seulement les autres pics et on obtient donc un nouveau spectre représentant les nuages de gaz au sein de la Voie Lactée. Ci - dessous, le spectre alors obtenu : "
   ]
  },
  {
   "cell_type": "code",
   "execution_count": null,
   "metadata": {
    "collapsed": true
   },
   "outputs": [],
   "source": []
  },
  {
   "cell_type": "markdown",
   "metadata": {},
   "source": [
    "A partir de ce spectre, nous représentons donc dans la galaxie, les différents nuages de spectre alors trouvés. Nous trouvons alors cette représentation :"
   ]
  },
  {
   "cell_type": "code",
   "execution_count": null,
   "metadata": {
    "collapsed": true
   },
   "outputs": [],
   "source": []
  },
  {
   "cell_type": "markdown",
   "metadata": {},
   "source": [
    "Maintenant, nous relions les différents points d'une même ligne de visée sur les orbites circulaires entre eux puis nous les relions au centre de la galaxie. Ainsi, nous venons de faire la cartographie de la Voie Lactée. Ci-dessous, le programme correspondant : "
   ]
  },
  {
   "cell_type": "markdown",
   "metadata": {},
   "source": []
  }
 ],
 "metadata": {
  "kernelspec": {
   "display_name": "Python 3",
   "language": "python",
   "name": "python3"
  },
  "language_info": {
   "codemirror_mode": {
    "name": "ipython",
    "version": 3
   },
   "file_extension": ".py",
   "mimetype": "text/x-python",
   "name": "python",
   "nbconvert_exporter": "python",
   "pygments_lexer": "ipython3",
   "version": "3.4.1"
  }
 },
 "nbformat": 4,
 "nbformat_minor": 0
}

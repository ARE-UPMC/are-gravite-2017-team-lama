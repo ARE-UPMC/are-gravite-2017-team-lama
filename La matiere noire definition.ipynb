{
 "cells": [
  {
   "cell_type": "markdown",
   "metadata": {},
   "source": [
    "# La matière noire\n",
    "\n",
    "Les galaxies sont des systèmes complexes qui tournent tellement vite sur eux-mêmes que la force gravitationnelle ne peut suffir à les maintenir liées. C'est pourquoi les scientifiques ont émis l'hypothèse qu'il y a un surplus de masse invisible au centre de chaque galaxie notamment de la Voie Lactée, appelée matière noire. On dit qu'elle est invisible car elle n'est pas détectable directement. En effet, la force électromagnétique n'est pas présente dans la matière noire, cette dernière n'émet donc pas - ou n'absorbe pas - de lumière, contrairement aux étoiles et planètes ainsi facilement observables. Les scientifiques n'ont pas encore déterminer la nature de la matière noire mais l'énergie qui la compose pourrait nous permettre de l'étudier."
   ]
  },
  {
   "cell_type": "markdown",
   "metadata": {},
   "source": [
    "# Sources\n",
    "\n",
    "© Copyright CERN 2017, \"Matière Noire\" <https://home.cern/fr/about/physics/dark-matter>, 2015-04-15"
   ]
  },
  {
   "cell_type": "markdown",
   "metadata": {},
   "source": [
    "PLAN\n",
    "I/ Etude spectrale\n",
    "radioastronomie - spectre de l'hydrogène neutre - composition d'un nuage de gaz\n",
    "\n",
    "II/ Etude du mouvement\n",
    "courbe de rotation du gaz dans la voie lactée (simulation python) - "
   ]
  },
  {
   "cell_type": "markdown",
   "metadata": {},
   "source": []
  },
  {
   "cell_type": "code",
   "execution_count": null,
   "metadata": {
    "collapsed": true
   },
   "outputs": [],
   "source": []
  }
 ],
 "metadata": {
  "kernelspec": {
   "display_name": "Python 3",
   "language": "python",
   "name": "python3"
  },
  "language_info": {
   "codemirror_mode": {
    "name": "ipython",
    "version": 3
   },
   "file_extension": ".py",
   "mimetype": "text/x-python",
   "name": "python",
   "nbconvert_exporter": "python",
   "pygments_lexer": "ipython3",
   "version": "3.4.1"
  }
 },
 "nbformat": 4,
 "nbformat_minor": 0
}

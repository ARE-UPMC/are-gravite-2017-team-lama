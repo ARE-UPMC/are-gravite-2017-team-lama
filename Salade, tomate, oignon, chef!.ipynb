{
 "cells": [
  {
   "cell_type": "markdown",
   "metadata": {},
   "source": [
    "Pour se faire, commençons par la modélisation de la Voie Lactée afin de pouvoir visualiser de façon plus concrète notre problème. Pour cela, nous avons inséré dans un programme informatique, créé par Younes et Samy, un plan galactique orthonormé (en kpc, qui est l'unité la plus appropriée pour notre situation) contenant différents points positionnés de façon aléatoire (et également de façon à ce qu'il y ait plus de points autour du centre de masse et aucun point dans un certain rayon qui correspond au rayon du centre de masse) et un point jaune situé à 8,5 kpc qui coorespond au système solaire. A travers ce programme, nous allons effectuer un calcul du nombre de points passant par la ligne de visée (correspondant à 36 degrés) en partant du système solaire et par la suite, un calcul de la vitesse radiale de ces points (en supposant que tout les points possèdent la même vitesse circulaire que le Soleil; 250 km/s) pour pouvoir les représenter dans un graphe en fonction de leur distance par rapport au Soleil. Ci-dessous, le programme correspondant :"
   ]
  }
 ],
 "metadata": {
  "kernelspec": {
   "display_name": "Python 3",
   "language": "python",
   "name": "python3"
  },
  "language_info": {
   "codemirror_mode": {
    "name": "ipython",
    "version": 3
   },
   "file_extension": ".py",
   "mimetype": "text/x-python",
   "name": "python",
   "nbconvert_exporter": "python",
   "pygments_lexer": "ipython3",
   "version": "3.4.1"
  }
 },
 "nbformat": 4,
 "nbformat_minor": 0
}
